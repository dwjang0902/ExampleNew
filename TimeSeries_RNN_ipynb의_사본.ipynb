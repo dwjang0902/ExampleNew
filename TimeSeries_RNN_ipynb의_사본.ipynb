{
  "nbformat": 4,
  "nbformat_minor": 0,
  "metadata": {
    "colab": {
      "name": "TimeSeries_RNN.ipynb의 사본",
      "version": "0.3.2",
      "provenance": [],
      "collapsed_sections": [],
      "include_colab_link": true
    },
    "kernelspec": {
      "name": "python3",
      "display_name": "Python 3"
    },
    "accelerator": "GPU"
  },
  "cells": [
    {
      "cell_type": "markdown",
      "metadata": {
        "id": "view-in-github",
        "colab_type": "text"
      },
      "source": [
        "<a href=\"https://colab.research.google.com/github/dwjang0902/ExampleNew/blob/master/TimeSeries_RNN_ipynb%EC%9D%98_%EC%82%AC%EB%B3%B8.ipynb\" target=\"_parent\"><img src=\"https://colab.research.google.com/assets/colab-badge.svg\" alt=\"Open In Colab\"/></a>"
      ]
    },
    {
      "metadata": {
        "id": "Igm4B_YAXrvj",
        "colab_type": "text"
      },
      "cell_type": "markdown",
      "source": [
        "참조 : https://www.math.purdue.edu/~nwinovic/slides/Getting_Started_with_TensorFlow_I.pdf\n",
        "http://androidkt.com/time-series/\n",
        "https://medium.com/the-artificial-impostor/notes-understanding-tensorflow-part-2-f7e5ece849f5"
      ]
    },
    {
      "metadata": {
        "id": "-xGhS_RmiTIH",
        "colab_type": "code",
        "outputId": "3b9308ad-36ae-49ec-9ee9-47c9b4c58143",
        "colab": {
          "base_uri": "https://localhost:8080/",
          "height": 2261
        }
      },
      "cell_type": "code",
      "source": [
        "# Example #1 \n",
        "# https://mapr.com/blog/deep-learning-tensorflow/\n",
        "\n",
        "import sys\n",
        "sys.version\n",
        "\n",
        "import tensorflow as tf\n",
        "import pandas as pd\n",
        "import os\n",
        "import matplotlib.pyplot as plt\n",
        "import random\n",
        "import numpy as np\n",
        "\n",
        "\n",
        "random.seed(777)\n",
        "\n",
        "rng = pd.date_range(start = '2000', periods = 1209, freq = \"M\" )\n",
        "ts = pd.Series(np.random.uniform(-10, 10, size = len(rng)), rng).cumsum()\n",
        "ts.plot(c = 'b', title = 'Example Time Series')\n",
        "plt.show()\n",
        "ts.head(10)\n",
        "\n",
        "TS = np.array(ts)\n",
        "num_periods = 20\n",
        "f_horizon = 1\n",
        "\n",
        "\n",
        "x_data = TS[:(len(TS)-(len(TS) % num_periods))]\n",
        "x_batches = x_data.reshape(-1, num_periods, 1)\n",
        "\n",
        "y_data = TS[1:(len(TS)-(len(TS) % num_periods))+f_horizon]\n",
        "y_batches = y_data.reshape(-1, num_periods, 1)\n",
        "\n",
        "print(len(x_batches))\n",
        "print(x_batches.shape)\n",
        "print(x_batches[0:1])\n",
        "\n",
        "print(len(y_batches))\n",
        "print(y_batches.shape)\n",
        "print(y_batches[0:1])\n",
        "\n",
        "# x_test\n",
        "def test_data(series, forecast, num_periods) :\n",
        "    test_x_setup = TS[-(num_periods+forecast):]\n",
        "    testX = test_x_setup[:num_periods].reshape(-1,num_periods,1)\n",
        "    testY = TS[-(num_periods):].reshape(-1,num_periods,1)\n",
        "    return testX, testY\n",
        "x_test, y_test = test_data(TS, f_horizon, num_periods)\n",
        "\n",
        "tf.reset_default_graph()\n",
        "\n",
        "#num_periods = 20\n",
        "inputs = 1\n",
        "hidden = 100\n",
        "output = 1\n",
        "\n",
        "x = tf.placeholder(tf.float32, [None, num_periods, inputs])\n",
        "y = tf.placeholder(tf.float32, [None, num_periods, output])\n",
        "\n",
        "cell = tf.contrib.rnn.BasicRNNCell(num_units = hidden, activation = tf.nn.relu)\n",
        "outputs, _states = tf.nn.dynamic_rnn(cell, x, dtype = tf.float32)\n",
        "\n",
        "learning_rate = 0.001\n",
        "\n",
        "stacked_rnn_outputs = tf.reshape(outputs, [-1, hidden])\n",
        "stacked_outputs = tf.layers.dense(stacked_rnn_outputs , output)\n",
        "outputs = tf.reshape(stacked_outputs, [-1, num_periods, output])\n",
        "\n",
        "loss = tf.reduce_mean(tf.square(outputs - y))\n",
        "optimizer = tf.train.AdamOptimizer(learning_rate)\n",
        "training_op = optimizer.minimize(loss)\n",
        "\n",
        "init = tf.global_variables_initializer()\n",
        "\n",
        "epoches = 1000\n",
        "\n",
        "with tf.Session() as sess :\n",
        "    sess.run(init)\n",
        "    for ep in range(epoches) :\n",
        "        sess.run(training_op, feed_dict = { x : x_batches, y: y_batches})\n",
        "        \n",
        "        if ep % 100 == 0 :\n",
        "            mse = loss.eval(feed_dict = { x : x_batches, y: y_batches})\n",
        "            print(ep, \"\\MSE \", mse)\n",
        "\n",
        "    y_pred = sess.run(outputs, feed_dict = {x:x_test})\n",
        "    print(\" Prediction = \\n \", y_pred)\n",
        "        \n",
        "\n",
        "plt.title(\"Forecast vs Actual\", fontsize = 14)\n",
        "plt.plot( pd.Series(np.ravel(y_test)), \"bo\", markersize = 10, label =\"Actual\")\n",
        "\n",
        "plt.plot(pd.Series(np.ravel(y_pred)), \"r.\", markersize = 10, label = \"Forecast\")\n",
        "plt.legend(loc = \" upper right\")\n",
        "plt.xlabel(\"Time Periods\")\n",
        "plt.show\n",
        "        "
      ],
      "execution_count": 0,
      "outputs": [
        {
          "output_type": "display_data",
          "data": {
            "image/png": "[encoded data removed]",
            "text/plain": [
              "<Figure size 432x288 with 1 Axes>"
            ]
          },
          "metadata": {
            "tags": []
          }
        },
        {
          "output_type": "stream",
          "text": [
            "60\n",
            "(60, 20, 1)\n",
            "[[[ -7.77396977]\n",
            "  [ -1.66609076]\n",
            "  [ -9.31040299]\n",
            "  [ -1.57162517]\n",
            "  [ -5.11038611]\n",
            "  [-13.5128238 ]\n",
            "  [-20.92533546]\n",
            "  [-19.56039151]\n",
            "  [-17.96349118]\n",
            "  [-13.8472564 ]\n",
            "  [-15.98154273]\n",
            "  [-23.72542178]\n",
            "  [-18.97270354]\n",
            "  [-19.48978508]\n",
            "  [-18.76031013]\n",
            "  [-18.80651256]\n",
            "  [-18.09780341]\n",
            "  [-23.86549473]\n",
            "  [-22.52185806]\n",
            "  [-13.49431277]]]\n",
            "60\n",
            "(60, 20, 1)\n",
            "[[[ -1.66609076]\n",
            "  [ -9.31040299]\n",
            "  [ -1.57162517]\n",
            "  [ -5.11038611]\n",
            "  [-13.5128238 ]\n",
            "  [-20.92533546]\n",
            "  [-19.56039151]\n",
            "  [-17.96349118]\n",
            "  [-13.8472564 ]\n",
            "  [-15.98154273]\n",
            "  [-23.72542178]\n",
            "  [-18.97270354]\n",
            "  [-19.48978508]\n",
            "  [-18.76031013]\n",
            "  [-18.80651256]\n",
            "  [-18.09780341]\n",
            "  [-23.86549473]\n",
            "  [-22.52185806]\n",
            "  [-13.49431277]\n",
            "  [-16.11080229]]]\n",
            "0 \\MSE  2114.1484\n",
            "100 \\MSE  64.31334\n",
            "200 \\MSE  39.558495\n",
            "300 \\MSE  30.558931\n",
            "400 \\MSE  27.145493\n",
            "500 \\MSE  24.25859\n",
            "600 \\MSE  21.38206\n",
            "700 \\MSE  18.79496\n",
            "800 \\MSE  17.066156\n",
            "900 \\MSE  17.553038\n",
            " Prediction = \n",
            "  [[[ 73.658455]\n",
            "  [ 80.19753 ]\n",
            "  [ 77.05778 ]\n",
            "  [ 92.887794]\n",
            "  [104.5036  ]\n",
            "  [103.018555]\n",
            "  [113.10409 ]\n",
            "  [115.295364]\n",
            "  [118.31626 ]\n",
            "  [103.76965 ]\n",
            "  [104.44378 ]\n",
            "  [116.43354 ]\n",
            "  [111.25657 ]\n",
            "  [115.60758 ]\n",
            "  [103.35254 ]\n",
            "  [108.53664 ]\n",
            "  [109.91826 ]\n",
            "  [116.11441 ]\n",
            "  [122.704155]\n",
            "  [108.5806  ]]]\n"
          ],
          "name": "stdout"
        },
        {
          "output_type": "stream",
          "text": [
            "/usr/local/lib/python3.6/dist-packages/matplotlib/legend.py:497: UserWarning: Unrecognized location \" upper right\". Falling back on \"best\"; valid locations are\n",
            "\tbest\n",
            "\tupper right\n",
            "\tupper left\n",
            "\tlower left\n",
            "\tlower right\n",
            "\tright\n",
            "\tcenter left\n",
            "\tcenter right\n",
            "\tlower center\n",
            "\tupper center\n",
            "\tcenter\n",
            "\n",
            "  % (loc, '\\n\\t'.join(self.codes)))\n"
          ],
          "name": "stderr"
        },
        {
          "output_type": "execute_result",
          "data": {
            "text/plain": [
              "<function matplotlib.pyplot.show>"
            ]
          },
          "metadata": {
            "tags": []
          },
          "execution_count": 6
        },
        {
          "output_type": "display_data",
          "data": {
            "image/png": "[encoded data removed]",
            "text/plain": [
              "<Figure size 432x288 with 1 Axes>"
            ]
          },
          "metadata": {
            "tags": []
          }
        }
      ]
    },
    {
      "metadata": {
        "id": "2FwkNu5F_oqe",
        "colab_type": "code",
        "colab": {}
      },
      "cell_type": "code",
      "source": [
        ""
      ],
      "execution_count": 0,
      "outputs": []
    },
    {
      "metadata": {
        "id": "aL-6JwNEYbfQ",
        "colab_type": "code",
        "outputId": "03470d06-9b86-42e2-b3df-0f6084cca9c9",
        "colab": {
          "base_uri": "https://localhost:8080/",
          "height": 924
        }
      },
      "cell_type": "code",
      "source": [
        "# -*- coding: utf-8 -*-\n",
        "\"\"\"\n",
        "Created on Fri Apr 26 14:30:05 2019\n",
        "@author: Jang\n",
        "\"\"\"\n",
        "#http://androidkt.com/time-series/\n",
        "\n",
        "import sklearn \n",
        "from sklearn.model_selection import train_test_split\n",
        "import numpy as np\n",
        "from matplotlib import pyplot as plt\n",
        " \n",
        "import tensorflow as tf\n",
        "from tensorflow.python.platform import tf_logging as logging\n",
        " \n",
        "logging.set_verbosity(logging.INFO)\n",
        "logging.log(logging.INFO, \"Tensorflow version \" + tf.__version__)\n",
        " \n",
        "tf.reset_default_graph()\n",
        "    \n",
        "# Simulate Time Series Data \n",
        "def generate_time_series(datalen):\n",
        "    freq1 = 0.2\n",
        "    freq2 = 0.15\n",
        "    noise = [np.random.random() * 0.1 for i in range(datalen)]\n",
        "    x1 = np.sin(np.arange(0, datalen) * freq1) + noise\n",
        "    x2 = np.sin(np.arange(0, datalen) * freq2) + noise\n",
        "    x = x1 + x2\n",
        "    return x.astype(np.float32)\n",
        " \n",
        " \n",
        "DATA_SEQ_LEN = 24000\n",
        " \n",
        "data = generate_time_series(DATA_SEQ_LEN)\n",
        "#plt.plot(data[0:200])\n",
        "\n",
        "SEQLEN =3  # unrolled sequence length\n",
        "BATCHSIZE = 32\n",
        " \n",
        "X = data\n",
        "Y = np.roll(data, -1) # shift left\n",
        " \n",
        "X_train, X_test, Y_train, Y_test = train_test_split(X, Y,test_size=.2, random_state=0)\n",
        " \n",
        "X_train = np.reshape(X_train, [-1, SEQLEN,1])\n",
        "Y_train = np.reshape(Y_train, [-1, SEQLEN,1])\n",
        "X_test = np.reshape(X_test, [-1, SEQLEN,1])\n",
        "Y_test = np.reshape(Y_test, [-1, SEQLEN,1])\n",
        "\n",
        "print(X_train.shape)\n",
        "print(Y_train.shape)\n",
        "\n",
        "plt.plot(X_train[100])\n",
        "plt.plot(Y_train[100])\n",
        "\n",
        "\n",
        "# Model\n",
        "hidden_size = 4\n",
        "input_size = 1\n",
        "output_size = 1\n",
        "\n",
        "X = tf.placeholder(tf.float32, [None, SEQLEN,input_size]) # 3차원이 되어야 한다\n",
        "Y = tf.placeholder(tf.float32, [None, SEQLEN,output_size])\n",
        "\n",
        "cell = tf.contrib.rnn.BasicRNNCell(hidden_size)\n",
        "#initial_state = rnn_cell.zero_state(None, dtype=tf.float32)\n",
        "outputs, _states = tf.nn.dynamic_rnn(cell, X, dtype = tf.float32) # outputs = [batch_size, seq_len(max_time), hidden_size]; _states = [batch_size, hidden_size]\n",
        "\n",
        "stacked_rnn_outputs = tf.reshape(outputs, [-1, hidden_size])\n",
        "stacked_outputs = tf.layers.dense(stacked_rnn_outputs , output_size)\n",
        "outputs = tf.reshape(stacked_outputs, [-1, SEQLEN, output_size])\n",
        "predictions = outputs\n",
        "\n",
        "#w = tf.Variable(tf.zeros([out_size, SEQLEN],dtype = tf.float32))\n",
        "#b = tf.Variable(tf.zeros([out_size],dtype = tf.float32))\n",
        "#predictions = tf.matmul(w,results) + b\n",
        "\n",
        "\n",
        "loss = tf.losses.mean_squared_error(predictions = predictions, labels = Y,  weights=1.0)\n",
        "loss_total = tf.reduce_mean(loss)  \n",
        "\n",
        "optimizer = tf.train.AdamOptimizer(0.01)\n",
        "train_opt = optimizer.minimize(loss)\n",
        "\n",
        "\n",
        "\n",
        "init = tf.global_variables_initializer()\n",
        "\n",
        "with tf.Session() as sess :\n",
        "    sess.run(init)\n",
        "    sess.run(train_opt, feed_dict = {X : X_train[100:102], Y : Y_train[100:102]})\n",
        "    print(loss_total.eval(feed_dict = {X : X_train[100:102], Y : Y_train[100:102]}))     \n",
        "    print(predictions.eval(feed_dict = {X : X_train[100:102]}))\n",
        "   \n",
        "\n",
        "\"\"\"\n",
        "def train_dataset():\n",
        "    dataset = tf.data.Dataset.from_tensor_slices((X_train, Y_train))\n",
        "    dataset = dataset.repeat()\n",
        "    dataset = dataset.shuffle(DATA_SEQ_LEN * 4 // SEQLEN)\n",
        "    dataset = dataset.batch(BATCHSIZE)\n",
        "    samples, labels = dataset.make_one_shot_iterator().get_next()\n",
        "    return samples, labels\n",
        " \n",
        " \n",
        "def eval_dataset():\n",
        "    evaldataset = tf.data.Dataset.from_tensor_slices((X_test, Y_test))\n",
        "    evaldataset = evaldataset.repeat(1)\n",
        "    evaldataset = evaldataset.batch(BATCHSIZE)\n",
        " \n",
        "    samples, labels = evaldataset.make_one_shot_iterator().get_next()\n",
        "    return samples, labels\n",
        "\n",
        "\"\"\""
      ],
      "execution_count": 1,
      "outputs": [
        {
          "output_type": "stream",
          "text": [
            "INFO:tensorflow:Tensorflow version 1.13.1\n",
            "(6400, 3, 1)\n",
            "(6400, 3, 1)\n",
            "\n",
            "WARNING: The TensorFlow contrib module will not be included in TensorFlow 2.0.\n",
            "For more information, please see:\n",
            "  * https://github.com/tensorflow/community/blob/master/rfcs/20180907-contrib-sunset.md\n",
            "  * https://github.com/tensorflow/addons\n",
            "If you depend on functionality not listed there, please file an issue.\n",
            "\n",
            "WARNING:tensorflow:From <ipython-input-1-ffe34716154b>:64: BasicRNNCell.__init__ (from tensorflow.python.ops.rnn_cell_impl) is deprecated and will be removed in a future version.\n",
            "Instructions for updating:\n",
            "This class is equivalent as tf.keras.layers.SimpleRNNCell, and will be replaced by that in Tensorflow 2.0.\n",
            "WARNING:tensorflow:From <ipython-input-1-ffe34716154b>:66: dynamic_rnn (from tensorflow.python.ops.rnn) is deprecated and will be removed in a future version.\n",
            "Instructions for updating:\n",
            "Please use `keras.layers.RNN(cell)`, which is equivalent to this API\n",
            "WARNING:tensorflow:From /usr/local/lib/python3.6/dist-packages/tensorflow/python/ops/tensor_array_ops.py:162: colocate_with (from tensorflow.python.framework.ops) is deprecated and will be removed in a future version.\n",
            "Instructions for updating:\n",
            "Colocations handled automatically by placer.\n",
            "WARNING:tensorflow:From <ipython-input-1-ffe34716154b>:69: dense (from tensorflow.python.layers.core) is deprecated and will be removed in a future version.\n",
            "Instructions for updating:\n",
            "Use keras.layers.dense instead.\n",
            "WARNING:tensorflow:From /usr/local/lib/python3.6/dist-packages/tensorflow/python/ops/losses/losses_impl.py:667: to_float (from tensorflow.python.ops.math_ops) is deprecated and will be removed in a future version.\n",
            "Instructions for updating:\n",
            "Use tf.cast instead.\n",
            "0.13540362\n",
            "[[[ 0.22210819]\n",
            "  [ 0.8509172 ]\n",
            "  [-0.22419909]]\n",
            "\n",
            " [[-0.38985527]\n",
            "  [-0.6095638 ]\n",
            "  [ 0.17868617]]]\n"
          ],
          "name": "stdout"
        },
        {
          "output_type": "execute_result",
          "data": {
            "text/plain": [
              "'\\ndef train_dataset():\\n    dataset = tf.data.Dataset.from_tensor_slices((X_train, Y_train))\\n    dataset = dataset.repeat()\\n    dataset = dataset.shuffle(DATA_SEQ_LEN * 4 // SEQLEN)\\n    dataset = dataset.batch(BATCHSIZE)\\n    samples, labels = dataset.make_one_shot_iterator().get_next()\\n    return samples, labels\\n \\n \\ndef eval_dataset():\\n    evaldataset = tf.data.Dataset.from_tensor_slices((X_test, Y_test))\\n    evaldataset = evaldataset.repeat(1)\\n    evaldataset = evaldataset.batch(BATCHSIZE)\\n \\n    samples, labels = evaldataset.make_one_shot_iterator().get_next()\\n    return samples, labels\\n\\n'"
            ]
          },
          "metadata": {
            "tags": []
          },
          "execution_count": 1
        },
        {
          "output_type": "display_data",
          "data": {
            "image/png": "[encoded data removed]",
            "text/plain": [
              "<Figure size 432x288 with 1 Axes>"
            ]
          },
          "metadata": {
            "tags": []
          }
        }
      ]
    },
    {
      "metadata": {
        "id": "9gp946NBERWw",
        "colab_type": "code",
        "colab": {}
      },
      "cell_type": "code",
      "source": [
        ""
      ],
      "execution_count": 0,
      "outputs": []
    },
    {
      "metadata": {
        "id": "nEp0K4Br8ei4",
        "colab_type": "code",
        "colab": {}
      },
      "cell_type": "code",
      "source": [
        ""
      ],
      "execution_count": 0,
      "outputs": []
    }
  ]
}