{
  "nbformat": 4,
  "nbformat_minor": 0,
  "metadata": {
    "colab": {
      "name": "wep_scraping_with_pandas_Beautifulsoup.ipynb",
      "version": "0.3.2",
      "provenance": [],
      "collapsed_sections": [],
      "include_colab_link": true
    },
    "kernelspec": {
      "name": "python3",
      "display_name": "Python 3"
    }
  },
  "cells": [
    {
      "cell_type": "markdown",
      "metadata": {
        "id": "view-in-github",
        "colab_type": "text"
      },
      "source": [
        "<a href=\"https://colab.research.google.com/github/dwjang0902/ExampleNew/blob/master/wep_scraping_with_pandas_Beautifulsoup.ipynb\" target=\"_parent\"><img src=\"https://colab.research.google.com/assets/colab-badge.svg\" alt=\"Open In Colab\"/></a>"
      ]
    },
    {
      "cell_type": "markdown",
      "metadata": {
        "id": "-JfdrUeiLyXM",
        "colab_type": "text"
      },
      "source": [
        "# Web Scraping, HTML Reading\n",
        "\n",
        "참조 : \n",
        "1. [Parsing HTML Tables in Python with pandas](https://beenje.github.io/blog/posts/parsing-html-tables-in-python-with-pandas/)\n",
        "2. [Web Scraping with Pandas and Beautifulsoup](https://pythonprogramminglanguage.com/web-scraping-with-pandas-and-beautifulsoup/)\n",
        "3. [HTML 요소 레퍼런스](https://developer.mozilla.org/ko/docs/Web/HTML/Element#%EB%82%B4%EC%9E%A5_%EC%BD%98%ED%85%90%EC%B8%A0)\n",
        "4. [Most commonly used tags in HTML](https://www.geeksforgeeks.org/most-commonly-used-tags-in-html/)"
      ]
    },
    {
      "cell_type": "code",
      "metadata": {
        "id": "roo1-YFK-AZv",
        "colab_type": "code",
        "colab": {}
      },
      "source": [
        "html_string = \"\"\"\n",
        "<table>\n",
        "  <thead>\n",
        "    <tr>\n",
        "      <th>Programming Language</th>\n",
        "      <th>Creator</th> \n",
        "      <th>Year</th>\n",
        "    </tr>\n",
        "  </thead>\n",
        "  <tbody>\n",
        "    <tr>\n",
        "      <td>C</td>\n",
        "      <td>Dennis Ritchie</td> \n",
        "      <td>1972</td>\n",
        "    </tr>\n",
        "    <tr>\n",
        "      <td>Python</td>\n",
        "      <td>Guido Van Rossum</td> \n",
        "      <td>1989</td>\n",
        "    </tr>\n",
        "    <tr>\n",
        "      <td>Ruby</td>\n",
        "      <td>Yukihiro Matsumoto</td> \n",
        "      <td>1995</td>\n",
        "    </tr>\n",
        "  </tbody>\n",
        "</table>\n",
        "\"\"\""
      ],
      "execution_count": 0,
      "outputs": []
    },
    {
      "cell_type": "code",
      "metadata": {
        "id": "rf8zPm55-LBL",
        "colab_type": "code",
        "outputId": "3457c03c-b34f-4d2f-95c9-b6119e6059f9",
        "colab": {
          "base_uri": "https://localhost:8080/",
          "height": 98
        }
      },
      "source": [
        "from IPython.display import display_html\n",
        "display_html(html_string, raw=True)"
      ],
      "execution_count": 0,
      "outputs": [
        {
          "output_type": "display_data",
          "data": {
            "text/html": [
              "\n",
              "<table>\n",
              "  <thead>\n",
              "    <tr>\n",
              "      <th>Programming Language</th>\n",
              "      <th>Creator</th> \n",
              "      <th>Year</th>\n",
              "    </tr>\n",
              "  </thead>\n",
              "  <tbody>\n",
              "    <tr>\n",
              "      <td>C</td>\n",
              "      <td>Dennis Ritchie</td> \n",
              "      <td>1972</td>\n",
              "    </tr>\n",
              "    <tr>\n",
              "      <td>Python</td>\n",
              "      <td>Guido Van Rossum</td> \n",
              "      <td>1989</td>\n",
              "    </tr>\n",
              "    <tr>\n",
              "      <td>Ruby</td>\n",
              "      <td>Yukihiro Matsumoto</td> \n",
              "      <td>1995</td>\n",
              "    </tr>\n",
              "  </tbody>\n",
              "</table>\n"
            ]
          },
          "metadata": {
            "tags": []
          }
        }
      ]
    },
    {
      "cell_type": "code",
      "metadata": {
        "id": "dMi9r7Tz-v51",
        "colab_type": "code",
        "outputId": "61721f0a-8435-4b92-8281-49220313b780",
        "colab": {
          "base_uri": "https://localhost:8080/",
          "height": 87
        }
      },
      "source": [
        "import pandas as pd\n",
        "dfs = pd.read_html(html_string)\n",
        "print(dfs)"
      ],
      "execution_count": 0,
      "outputs": [
        {
          "output_type": "stream",
          "text": [
            "[  Programming Language             Creator  Year\n",
            "0                    C      Dennis Ritchie  1972\n",
            "1               Python    Guido Van Rossum  1989\n",
            "2                 Ruby  Yukihiro Matsumoto  1995]\n"
          ],
          "name": "stdout"
        }
      ]
    },
    {
      "cell_type": "code",
      "metadata": {
        "id": "lVfqHyK7_JN9",
        "colab_type": "code",
        "outputId": "17bb9453-4072-4934-df8b-af4e19770894",
        "colab": {
          "base_uri": "https://localhost:8080/",
          "height": 87
        }
      },
      "source": [
        "df = dfs[0]\n",
        "print(df)"
      ],
      "execution_count": 0,
      "outputs": [
        {
          "output_type": "stream",
          "text": [
            "  Programming Language             Creator  Year\n",
            "0                    C      Dennis Ritchie  1972\n",
            "1               Python    Guido Van Rossum  1989\n",
            "2                 Ruby  Yukihiro Matsumoto  1995\n"
          ],
          "name": "stdout"
        }
      ]
    },
    {
      "cell_type": "code",
      "metadata": {
        "id": "P1zsZDfL_vn2",
        "colab_type": "code",
        "outputId": "3fd70a65-580b-48f6-bab3-2cf5ce382af3",
        "colab": {
          "base_uri": "https://localhost:8080/",
          "height": 70
        }
      },
      "source": [
        "df = df[df.Year > 1972]\n",
        "print(df)"
      ],
      "execution_count": 0,
      "outputs": [
        {
          "output_type": "stream",
          "text": [
            "Empty DataFrame\n",
            "Columns: [Programming Language, Creator, Year]\n",
            "Index: []\n"
          ],
          "name": "stdout"
        }
      ]
    },
    {
      "cell_type": "code",
      "metadata": {
        "id": "r1myKuZpAlfI",
        "colab_type": "code",
        "outputId": "7d38ead2-a3cc-4952-ed5c-90ef57647b48",
        "colab": {
          "base_uri": "https://localhost:8080/",
          "height": 136
        }
      },
      "source": [
        "pd.read_html(html_string)[0]"
      ],
      "execution_count": 0,
      "outputs": [
        {
          "output_type": "execute_result",
          "data": {
            "text/html": [
              "<div>\n",
              "<style scoped>\n",
              "    .dataframe tbody tr th:only-of-type {\n",
              "        vertical-align: middle;\n",
              "    }\n",
              "\n",
              "    .dataframe tbody tr th {\n",
              "        vertical-align: top;\n",
              "    }\n",
              "\n",
              "    .dataframe thead th {\n",
              "        text-align: right;\n",
              "    }\n",
              "</style>\n",
              "<table border=\"1\" class=\"dataframe\">\n",
              "  <thead>\n",
              "    <tr style=\"text-align: right;\">\n",
              "      <th></th>\n",
              "      <th>Programming Language</th>\n",
              "      <th>Creator</th>\n",
              "      <th>Year</th>\n",
              "    </tr>\n",
              "  </thead>\n",
              "  <tbody>\n",
              "    <tr>\n",
              "      <th>0</th>\n",
              "      <td>C</td>\n",
              "      <td>Dennis Ritchie</td>\n",
              "      <td>1972</td>\n",
              "    </tr>\n",
              "    <tr>\n",
              "      <th>1</th>\n",
              "      <td>Python</td>\n",
              "      <td>Guido Van Rossum</td>\n",
              "      <td>1989</td>\n",
              "    </tr>\n",
              "    <tr>\n",
              "      <th>2</th>\n",
              "      <td>Ruby</td>\n",
              "      <td>Yukihiro Matsumoto</td>\n",
              "      <td>1995</td>\n",
              "    </tr>\n",
              "  </tbody>\n",
              "</table>\n",
              "</div>"
            ],
            "text/plain": [
              "  Programming Language             Creator  Year\n",
              "0                    C      Dennis Ritchie  1972\n",
              "1               Python    Guido Van Rossum  1989\n",
              "2                 Ruby  Yukihiro Matsumoto  1995"
            ]
          },
          "metadata": {
            "tags": []
          },
          "execution_count": 18
        }
      ]
    },
    {
      "cell_type": "code",
      "metadata": {
        "id": "d6B4moxWBD74",
        "colab_type": "code",
        "outputId": "00bd79e2-9b48-4ea6-8cbb-05fd959228c9",
        "colab": {
          "base_uri": "https://localhost:8080/",
          "height": 809
        }
      },
      "source": [
        "dfs = pd.read_html('http://www.contextures.com/xlSampleData01.html')\n",
        "print(dfs)"
      ],
      "execution_count": 0,
      "outputs": [
        {
          "output_type": "stream",
          "text": [
            "             0        1         2        3      4         5        6\n",
            "0    OrderDate   Region       Rep     Item  Units  UnitCost    Total\n",
            "1     1/6/2018     East     Jones   Pencil     95      1.99   189.05\n",
            "2    1/23/2018  Central    Kivell   Binder     50     19.99   999.50\n",
            "3     2/9/2018  Central   Jardine   Pencil     36      4.99   179.64\n",
            "4    2/26/2018  Central      Gill      Pen     27     19.99   539.73\n",
            "5    3/15/2018     West   Sorvino   Pencil     56      2.99   167.44\n",
            "6     4/1/2018     East     Jones   Binder     60      4.99   299.40\n",
            "7    4/18/2018  Central   Andrews   Pencil     75      1.99   149.25\n",
            "8     5/5/2018  Central   Jardine   Pencil     90      4.99   449.10\n",
            "9    5/22/2018     West  Thompson   Pencil     32      1.99    63.68\n",
            "10    6/8/2018     East     Jones   Binder     60      8.99   539.40\n",
            "11   6/25/2018  Central    Morgan   Pencil     90      4.99   449.10\n",
            "12   7/12/2018     East    Howard   Binder     29      1.99    57.71\n",
            "13   7/29/2018     East    Parent   Binder     81     19.99  1619.19\n",
            "14   8/15/2018     East     Jones   Pencil     35      4.99   174.65\n",
            "15    9/1/2018  Central     Smith     Desk      2    125.00   250.00\n",
            "16   9/18/2018     East     Jones  Pen Set     16     15.99   255.84\n",
            "17   10/5/2018  Central    Morgan   Binder     28      8.99   251.72\n",
            "18  10/22/2018     East     Jones      Pen     64      8.99   575.36\n",
            "19   11/8/2018     East    Parent      Pen     15     19.99   299.85\n",
            "20  11/25/2018  Central    Kivell  Pen Set     96      4.99   479.04\n",
            "21  12/12/2018  Central     Smith   Pencil     67      1.29    86.43\n",
            "22  12/29/2018     East    Parent  Pen Set     74     15.99  1183.26\n",
            "23   1/15/2019  Central      Gill   Binder     46      8.99   413.54\n",
            "24    2/1/2019  Central     Smith   Binder     87     15.00  1305.00\n",
            "25   2/18/2019     East     Jones   Binder      4      4.99    19.96\n",
            "26    3/7/2019     West   Sorvino   Binder      7     19.99   139.93\n",
            "27   3/24/2019  Central   Jardine  Pen Set     50      4.99   249.50\n",
            "28   4/10/2019  Central   Andrews   Pencil     66      1.99   131.34\n",
            "29   4/27/2019     East    Howard      Pen     96      4.99   479.04\n",
            "30   5/14/2019  Central      Gill   Pencil     53      1.29    68.37\n",
            "31   5/31/2019  Central      Gill   Binder     80      8.99   719.20\n",
            "32   6/17/2019  Central    Kivell     Desk      5    125.00   625.00\n",
            "33    7/4/2019     East     Jones  Pen Set     62      4.99   309.38\n",
            "34   7/21/2019  Central    Morgan  Pen Set     55     12.49   686.95\n",
            "35    8/7/2019  Central    Kivell  Pen Set     42     23.95  1005.90\n",
            "36   8/24/2019     West   Sorvino     Desk      3    275.00   825.00\n",
            "37   9/10/2019  Central      Gill   Pencil      7      1.29     9.03\n",
            "38   9/27/2019     West   Sorvino      Pen     76      1.99   151.24\n",
            "39  10/14/2019     West  Thompson   Binder     57     19.99  1139.43\n",
            "40  10/31/2019  Central   Andrews   Pencil     14      1.29    18.06\n",
            "41  11/17/2019  Central   Jardine   Binder     11      4.99    54.89\n",
            "42   12/4/2019  Central   Jardine   Binder     94     19.99  1879.06\n",
            "43  12/21/2019  Central   Andrews   Binder     28      4.99   139.72\n"
          ],
          "name": "stdout"
        }
      ]
    },
    {
      "cell_type": "code",
      "metadata": {
        "id": "mj9LEpUYBcU3",
        "colab_type": "code",
        "outputId": "11569bf6-2345-40ae-ae56-0c4b56b80f31",
        "colab": {
          "base_uri": "https://localhost:8080/",
          "height": 195
        }
      },
      "source": [
        "dfs = pd.read_html('http://www.contextures.com/xlSampleData01.html', header=0)\n",
        "dfs[0].head()"
      ],
      "execution_count": 0,
      "outputs": [
        {
          "output_type": "execute_result",
          "data": {
            "text/html": [
              "<div>\n",
              "<style scoped>\n",
              "    .dataframe tbody tr th:only-of-type {\n",
              "        vertical-align: middle;\n",
              "    }\n",
              "\n",
              "    .dataframe tbody tr th {\n",
              "        vertical-align: top;\n",
              "    }\n",
              "\n",
              "    .dataframe thead th {\n",
              "        text-align: right;\n",
              "    }\n",
              "</style>\n",
              "<table border=\"1\" class=\"dataframe\">\n",
              "  <thead>\n",
              "    <tr style=\"text-align: right;\">\n",
              "      <th></th>\n",
              "      <th>OrderDate</th>\n",
              "      <th>Region</th>\n",
              "      <th>Rep</th>\n",
              "      <th>Item</th>\n",
              "      <th>Units</th>\n",
              "      <th>UnitCost</th>\n",
              "      <th>Total</th>\n",
              "    </tr>\n",
              "  </thead>\n",
              "  <tbody>\n",
              "    <tr>\n",
              "      <th>0</th>\n",
              "      <td>1/6/2018</td>\n",
              "      <td>East</td>\n",
              "      <td>Jones</td>\n",
              "      <td>Pencil</td>\n",
              "      <td>95</td>\n",
              "      <td>1.99</td>\n",
              "      <td>189.05</td>\n",
              "    </tr>\n",
              "    <tr>\n",
              "      <th>1</th>\n",
              "      <td>1/23/2018</td>\n",
              "      <td>Central</td>\n",
              "      <td>Kivell</td>\n",
              "      <td>Binder</td>\n",
              "      <td>50</td>\n",
              "      <td>19.99</td>\n",
              "      <td>999.50</td>\n",
              "    </tr>\n",
              "    <tr>\n",
              "      <th>2</th>\n",
              "      <td>2/9/2018</td>\n",
              "      <td>Central</td>\n",
              "      <td>Jardine</td>\n",
              "      <td>Pencil</td>\n",
              "      <td>36</td>\n",
              "      <td>4.99</td>\n",
              "      <td>179.64</td>\n",
              "    </tr>\n",
              "    <tr>\n",
              "      <th>3</th>\n",
              "      <td>2/26/2018</td>\n",
              "      <td>Central</td>\n",
              "      <td>Gill</td>\n",
              "      <td>Pen</td>\n",
              "      <td>27</td>\n",
              "      <td>19.99</td>\n",
              "      <td>539.73</td>\n",
              "    </tr>\n",
              "    <tr>\n",
              "      <th>4</th>\n",
              "      <td>3/15/2018</td>\n",
              "      <td>West</td>\n",
              "      <td>Sorvino</td>\n",
              "      <td>Pencil</td>\n",
              "      <td>56</td>\n",
              "      <td>2.99</td>\n",
              "      <td>167.44</td>\n",
              "    </tr>\n",
              "  </tbody>\n",
              "</table>\n",
              "</div>"
            ],
            "text/plain": [
              "   OrderDate   Region      Rep    Item  Units  UnitCost   Total\n",
              "0   1/6/2018     East    Jones  Pencil     95      1.99  189.05\n",
              "1  1/23/2018  Central   Kivell  Binder     50     19.99  999.50\n",
              "2   2/9/2018  Central  Jardine  Pencil     36      4.99  179.64\n",
              "3  2/26/2018  Central     Gill     Pen     27     19.99  539.73\n",
              "4  3/15/2018     West  Sorvino  Pencil     56      2.99  167.44"
            ]
          },
          "metadata": {
            "tags": []
          },
          "execution_count": 23
        }
      ]
    },
    {
      "cell_type": "code",
      "metadata": {
        "id": "_qdI20l7B2f9",
        "colab_type": "code",
        "outputId": "237b3d10-e671-4fed-b595-5a1631e96d80",
        "colab": {
          "base_uri": "https://localhost:8080/",
          "height": 610
        }
      },
      "source": [
        "pd.read_html('https://en.wikipedia.org/wiki/Python_(programming_language)', header=0)[0]"
      ],
      "execution_count": 0,
      "outputs": [
        {
          "output_type": "execute_result",
          "data": {
            "text/html": [
              "<div>\n",
              "<style scoped>\n",
              "    .dataframe tbody tr th:only-of-type {\n",
              "        vertical-align: middle;\n",
              "    }\n",
              "\n",
              "    .dataframe tbody tr th {\n",
              "        vertical-align: top;\n",
              "    }\n",
              "\n",
              "    .dataframe thead th {\n",
              "        text-align: right;\n",
              "    }\n",
              "</style>\n",
              "<table border=\"1\" class=\"dataframe\">\n",
              "  <thead>\n",
              "    <tr style=\"text-align: right;\">\n",
              "      <th></th>\n",
              "      <th>Unnamed: 0</th>\n",
              "      <th>Unnamed: 1</th>\n",
              "    </tr>\n",
              "  </thead>\n",
              "  <tbody>\n",
              "    <tr>\n",
              "      <th>0</th>\n",
              "      <td>Paradigm</td>\n",
              "      <td>Multi-paradigm: functional, imperative, object...</td>\n",
              "    </tr>\n",
              "    <tr>\n",
              "      <th>1</th>\n",
              "      <td>Designed by</td>\n",
              "      <td>Guido van Rossum</td>\n",
              "    </tr>\n",
              "    <tr>\n",
              "      <th>2</th>\n",
              "      <td>Developer</td>\n",
              "      <td>Python Software Foundation</td>\n",
              "    </tr>\n",
              "    <tr>\n",
              "      <th>3</th>\n",
              "      <td>First appeared</td>\n",
              "      <td>1990; 29 years ago[1]</td>\n",
              "    </tr>\n",
              "    <tr>\n",
              "      <th>4</th>\n",
              "      <td>NaN</td>\n",
              "      <td>NaN</td>\n",
              "    </tr>\n",
              "    <tr>\n",
              "      <th>5</th>\n",
              "      <td>Stable release</td>\n",
              "      <td>3.7.3 / 25 March 2019; 40 days ago[2]2.7.16 / ...</td>\n",
              "    </tr>\n",
              "    <tr>\n",
              "      <th>6</th>\n",
              "      <td>Typing discipline</td>\n",
              "      <td>Duck, dynamic, gradual (since 3.5)[4]</td>\n",
              "    </tr>\n",
              "    <tr>\n",
              "      <th>7</th>\n",
              "      <td>License</td>\n",
              "      <td>Python Software Foundation License</td>\n",
              "    </tr>\n",
              "    <tr>\n",
              "      <th>8</th>\n",
              "      <td>Filename extensions</td>\n",
              "      <td>.py, .pyc, .pyd, .pyo (prior to 3.5),[5] .pyw,...</td>\n",
              "    </tr>\n",
              "    <tr>\n",
              "      <th>9</th>\n",
              "      <td>Website</td>\n",
              "      <td>www.python.org</td>\n",
              "    </tr>\n",
              "    <tr>\n",
              "      <th>10</th>\n",
              "      <td>Major implementations</td>\n",
              "      <td>Major implementations</td>\n",
              "    </tr>\n",
              "    <tr>\n",
              "      <th>11</th>\n",
              "      <td>CPython, PyPy, Stackless Python, MicroPython. ...</td>\n",
              "      <td>CPython, PyPy, Stackless Python, MicroPython. ...</td>\n",
              "    </tr>\n",
              "    <tr>\n",
              "      <th>12</th>\n",
              "      <td>Dialects</td>\n",
              "      <td>Dialects</td>\n",
              "    </tr>\n",
              "    <tr>\n",
              "      <th>13</th>\n",
              "      <td>Cython, RPython</td>\n",
              "      <td>Cython, RPython</td>\n",
              "    </tr>\n",
              "    <tr>\n",
              "      <th>14</th>\n",
              "      <td>Influenced by</td>\n",
              "      <td>Influenced by</td>\n",
              "    </tr>\n",
              "    <tr>\n",
              "      <th>15</th>\n",
              "      <td>ABC,[7] ALGOL 68,[8] APL[9] C,[10] C++,[11] CL...</td>\n",
              "      <td>ABC,[7] ALGOL 68,[8] APL[9] C,[10] C++,[11] CL...</td>\n",
              "    </tr>\n",
              "    <tr>\n",
              "      <th>16</th>\n",
              "      <td>Influenced</td>\n",
              "      <td>Influenced</td>\n",
              "    </tr>\n",
              "    <tr>\n",
              "      <th>17</th>\n",
              "      <td>Apache Groovy, Boo, Cobra, CoffeeScript,[18] D...</td>\n",
              "      <td>Apache Groovy, Boo, Cobra, CoffeeScript,[18] D...</td>\n",
              "    </tr>\n",
              "    <tr>\n",
              "      <th>18</th>\n",
              "      <td>Python Programming at Wikibooks</td>\n",
              "      <td>Python Programming at Wikibooks</td>\n",
              "    </tr>\n",
              "  </tbody>\n",
              "</table>\n",
              "</div>"
            ],
            "text/plain": [
              "                                           Unnamed: 0  \\\n",
              "0                                            Paradigm   \n",
              "1                                         Designed by   \n",
              "2                                           Developer   \n",
              "3                                      First appeared   \n",
              "4                                                 NaN   \n",
              "5                                      Stable release   \n",
              "6                                   Typing discipline   \n",
              "7                                             License   \n",
              "8                                 Filename extensions   \n",
              "9                                             Website   \n",
              "10                              Major implementations   \n",
              "11  CPython, PyPy, Stackless Python, MicroPython. ...   \n",
              "12                                           Dialects   \n",
              "13                                    Cython, RPython   \n",
              "14                                      Influenced by   \n",
              "15  ABC,[7] ALGOL 68,[8] APL[9] C,[10] C++,[11] CL...   \n",
              "16                                         Influenced   \n",
              "17  Apache Groovy, Boo, Cobra, CoffeeScript,[18] D...   \n",
              "18                    Python Programming at Wikibooks   \n",
              "\n",
              "                                           Unnamed: 1  \n",
              "0   Multi-paradigm: functional, imperative, object...  \n",
              "1                                    Guido van Rossum  \n",
              "2                          Python Software Foundation  \n",
              "3                               1990; 29 years ago[1]  \n",
              "4                                                 NaN  \n",
              "5   3.7.3 / 25 March 2019; 40 days ago[2]2.7.16 / ...  \n",
              "6               Duck, dynamic, gradual (since 3.5)[4]  \n",
              "7                  Python Software Foundation License  \n",
              "8   .py, .pyc, .pyd, .pyo (prior to 3.5),[5] .pyw,...  \n",
              "9                                      www.python.org  \n",
              "10                              Major implementations  \n",
              "11  CPython, PyPy, Stackless Python, MicroPython. ...  \n",
              "12                                           Dialects  \n",
              "13                                    Cython, RPython  \n",
              "14                                      Influenced by  \n",
              "15  ABC,[7] ALGOL 68,[8] APL[9] C,[10] C++,[11] CL...  \n",
              "16                                         Influenced  \n",
              "17  Apache Groovy, Boo, Cobra, CoffeeScript,[18] D...  \n",
              "18                    Python Programming at Wikibooks  "
            ]
          },
          "metadata": {
            "tags": []
          },
          "execution_count": 27
        }
      ]
    },
    {
      "cell_type": "code",
      "metadata": {
        "id": "q-zjtMIfCmUL",
        "colab_type": "code",
        "colab": {}
      },
      "source": [
        "dfs = pd.read_html('https://en.wikipedia.org/wiki/Timeline_of_programming_languages')"
      ],
      "execution_count": 0,
      "outputs": []
    },
    {
      "cell_type": "code",
      "metadata": {
        "id": "qsToL4A6DBup",
        "colab_type": "code",
        "outputId": "b924144c-6554-481e-b276-7623707ec783",
        "colab": {
          "base_uri": "https://localhost:8080/",
          "height": 34
        }
      },
      "source": [
        "len(dfs)"
      ],
      "execution_count": 0,
      "outputs": [
        {
          "output_type": "execute_result",
          "data": {
            "text/plain": [
              "13"
            ]
          },
          "metadata": {
            "tags": []
          },
          "execution_count": 29
        }
      ]
    },
    {
      "cell_type": "code",
      "metadata": {
        "id": "KTCAqPkBDH46",
        "colab_type": "code",
        "outputId": "b7d41ba3-e603-4cec-b5a6-ed77aa4210a0",
        "colab": {
          "base_uri": "https://localhost:8080/",
          "height": 136
        }
      },
      "source": [
        "dfs[12]"
      ],
      "execution_count": 0,
      "outputs": [
        {
          "output_type": "execute_result",
          "data": {
            "text/html": [
              "<div>\n",
              "<style scoped>\n",
              "    .dataframe tbody tr th:only-of-type {\n",
              "        vertical-align: middle;\n",
              "    }\n",
              "\n",
              "    .dataframe tbody tr th {\n",
              "        vertical-align: top;\n",
              "    }\n",
              "\n",
              "    .dataframe thead th {\n",
              "        text-align: right;\n",
              "    }\n",
              "</style>\n",
              "<table border=\"1\" class=\"dataframe\">\n",
              "  <thead>\n",
              "    <tr style=\"text-align: right;\">\n",
              "      <th></th>\n",
              "      <th>vteProgramming languages</th>\n",
              "      <th>vteProgramming languages.1</th>\n",
              "    </tr>\n",
              "  </thead>\n",
              "  <tbody>\n",
              "    <tr>\n",
              "      <th>0</th>\n",
              "      <td>Comparison Timeline History</td>\n",
              "      <td>Comparison Timeline History</td>\n",
              "    </tr>\n",
              "    <tr>\n",
              "      <th>1</th>\n",
              "      <td>APL Assembly BASIC C C++ C# COBOL Elixir Fortr...</td>\n",
              "      <td>APL Assembly BASIC C C++ C# COBOL Elixir Fortr...</td>\n",
              "    </tr>\n",
              "    <tr>\n",
              "      <th>2</th>\n",
              "      <td>Category  Lists Alphabetical Categorical Gener...</td>\n",
              "      <td>Category  Lists Alphabetical Categorical Gener...</td>\n",
              "    </tr>\n",
              "  </tbody>\n",
              "</table>\n",
              "</div>"
            ],
            "text/plain": [
              "                            vteProgramming languages  \\\n",
              "0                        Comparison Timeline History   \n",
              "1  APL Assembly BASIC C C++ C# COBOL Elixir Fortr...   \n",
              "2  Category  Lists Alphabetical Categorical Gener...   \n",
              "\n",
              "                          vteProgramming languages.1  \n",
              "0                        Comparison Timeline History  \n",
              "1  APL Assembly BASIC C C++ C# COBOL Elixir Fortr...  \n",
              "2  Category  Lists Alphabetical Categorical Gener...  "
            ]
          },
          "metadata": {
            "tags": []
          },
          "execution_count": 35
        }
      ]
    },
    {
      "cell_type": "code",
      "metadata": {
        "id": "NZJU4tqEDip1",
        "colab_type": "code",
        "outputId": "303c2aa2-f437-454f-bb38-0a35c24ca1c5",
        "colab": {
          "base_uri": "https://localhost:8080/",
          "height": 136
        }
      },
      "source": [
        "dfs[12]"
      ],
      "execution_count": 0,
      "outputs": [
        {
          "output_type": "execute_result",
          "data": {
            "text/html": [
              "<div>\n",
              "<style scoped>\n",
              "    .dataframe tbody tr th:only-of-type {\n",
              "        vertical-align: middle;\n",
              "    }\n",
              "\n",
              "    .dataframe tbody tr th {\n",
              "        vertical-align: top;\n",
              "    }\n",
              "\n",
              "    .dataframe thead th {\n",
              "        text-align: right;\n",
              "    }\n",
              "</style>\n",
              "<table border=\"1\" class=\"dataframe\">\n",
              "  <thead>\n",
              "    <tr style=\"text-align: right;\">\n",
              "      <th></th>\n",
              "      <th>vteProgramming languages</th>\n",
              "      <th>vteProgramming languages.1</th>\n",
              "    </tr>\n",
              "  </thead>\n",
              "  <tbody>\n",
              "    <tr>\n",
              "      <th>0</th>\n",
              "      <td>Comparison Timeline History</td>\n",
              "      <td>Comparison Timeline History</td>\n",
              "    </tr>\n",
              "    <tr>\n",
              "      <th>1</th>\n",
              "      <td>APL Assembly BASIC C C++ C# COBOL Elixir Fortr...</td>\n",
              "      <td>APL Assembly BASIC C C++ C# COBOL Elixir Fortr...</td>\n",
              "    </tr>\n",
              "    <tr>\n",
              "      <th>2</th>\n",
              "      <td>Category  Lists Alphabetical Categorical Gener...</td>\n",
              "      <td>Category  Lists Alphabetical Categorical Gener...</td>\n",
              "    </tr>\n",
              "  </tbody>\n",
              "</table>\n",
              "</div>"
            ],
            "text/plain": [
              "                            vteProgramming languages  \\\n",
              "0                        Comparison Timeline History   \n",
              "1  APL Assembly BASIC C C++ C# COBOL Elixir Fortr...   \n",
              "2  Category  Lists Alphabetical Categorical Gener...   \n",
              "\n",
              "                          vteProgramming languages.1  \n",
              "0                        Comparison Timeline History  \n",
              "1  APL Assembly BASIC C C++ C# COBOL Elixir Fortr...  \n",
              "2  Category  Lists Alphabetical Categorical Gener...  "
            ]
          },
          "metadata": {
            "tags": []
          },
          "execution_count": 36
        }
      ]
    },
    {
      "cell_type": "markdown",
      "metadata": {
        "id": "lkNA4GdrLB3-",
        "colab_type": "text"
      },
      "source": [
        "\n",
        "[Web Scraping with Pandas and Beautifulsoup](https://pythonprogramminglanguage.com/web-scraping-with-pandas-and-beautifulsoup/)"
      ]
    },
    {
      "cell_type": "code",
      "metadata": {
        "id": "xtJC_aocE_hr",
        "colab_type": "code",
        "colab": {}
      },
      "source": [
        "import pandas as pd\n",
        "import requests\n",
        "from bs4 import BeautifulSoup"
      ],
      "execution_count": 0,
      "outputs": []
    },
    {
      "cell_type": "code",
      "metadata": {
        "id": "StIBoxnaFGGl",
        "colab_type": "code",
        "colab": {}
      },
      "source": [
        "res = requests.get(\"http://www.nationmaster.com/country-info/stats/Media/Internet-users\")\n",
        "print(res)\n",
        "soup = BeautifulSoup(res.content,'lxml')\n",
        "#print(soup)"
      ],
      "execution_count": 0,
      "outputs": []
    },
    {
      "cell_type": "code",
      "metadata": {
        "id": "5wbnwPm2IqAz",
        "colab_type": "code",
        "colab": {}
      },
      "source": [
        "table = soup.find_all('table')\n",
        "#print(len(table))\n",
        "table = table[0]\n",
        "df =pd.read_html(str(table))[0][0:5]"
      ],
      "execution_count": 0,
      "outputs": []
    },
    {
      "cell_type": "code",
      "metadata": {
        "id": "VO5BtkbZKlOS",
        "colab_type": "code",
        "outputId": "cbcb2ce8-92de-4b69-c27a-9d0fbdb5e726",
        "colab": {
          "base_uri": "https://localhost:8080/",
          "height": 34
        }
      },
      "source": [
        "countries = df[\"COUNTRY\"].tolist()\n",
        "users = df[\"AMOUNT\"].tolist()\n",
        "print(countries)"
      ],
      "execution_count": 0,
      "outputs": [
        {
          "output_type": "stream",
          "text": [
            "['China', 'United States', 'Japan', 'Group of 7 countries (G7) average (profile)', 'Brazil']\n"
          ],
          "name": "stdout"
        }
      ]
    },
    {
      "cell_type": "markdown",
      "metadata": {
        "id": "Fo3Vg70rBff8",
        "colab_type": "text"
      },
      "source": [
        "네이버 주식에서 데이타  읽어오기"
      ]
    },
    {
      "cell_type": "code",
      "metadata": {
        "id": "XfQzqqV_M-Je",
        "colab_type": "code",
        "colab": {}
      },
      "source": [
        "url = 'http://finance.naver.com/item/sise_day.nhn?code='+ stockItem\n",
        "#print(url)\n",
        "html = urlopen(url)  \n",
        "source = BeautifulSoup(html.read(), \"html.parser\")\n",
        "maxPage=source.find_all(\"table\",align=\"center\")\n",
        "#print(maxPage)\n",
        "mp = maxPage[0].find_all(\"td\",class_=\"pgRR\")\n",
        "page = mp[0].a.get('href')\n",
        "page = page.split('&')\n",
        "#print(\"page : \", page[-1]) \n",
        "page = page[-1].split('=')\n",
        "page = page[-1]\n",
        "print( \"전체 페이지 수 : \", page)\n",
        "\n",
        "# 일자 데이터를 담을 df라는 DataFrame 정의 \n",
        "df = pd.DataFrame()\n",
        "\n",
        "for page in range(1, last_page): \n",
        "#    pg_url = '{url}&page={page}'.format(url=url, page=page) # 동작을 않는다, 이유를 모르겠다 ???\n",
        "    pg_url = 'http://finance.naver.com/item/sise_day.nhn?code=' + code_num + '&page='+ str(page)\n",
        "#    print(pg_url)\n",
        "#    df = pd.read_html(pg_url)\n",
        "    df = df.append(pd.read_html(pg_url, header=0)[0], ignore_index=True)\n",
        " \n"
      ],
      "execution_count": 0,
      "outputs": []
    },
    {
      "cell_type": "code",
      "metadata": {
        "id": "uu-t4kTbAJ65",
        "colab_type": "code",
        "outputId": "a3ec0582-eb35-4e86-f669-9f85d174e806",
        "colab": {
          "base_uri": "https://localhost:8080/",
          "height": 70
        }
      },
      "source": [
        "import pandas as pd\n",
        "import requests\n",
        "from bs4 import BeautifulSoup\n",
        "\n",
        "#url = \"https://finance.naver.com/item/frgn.nhn?code=049430\"\n",
        "url = 'http://finance.naver.com/item/frgn.nhn?code='+ code_num\n",
        "res = requests.get(url)\n",
        "print(res)\n",
        "soup = BeautifulSoup(res.content,'lxml')\n",
        "maxPage = soup.find_all(\"table\",align=\"center\")\n",
        "print(len(maxPage))\n",
        "mp = maxPage[0].find_all(\"td\",class_=\"pgRR\")\n",
        "page = mp[0].a.get('href')\n",
        "page = page.split('&')\n",
        "#print(\"page : \", page[-1]) \n",
        "page = page[-1].split('=')\n",
        "page = page[-1]\n",
        "print( \"전체 페이지 수 : \", page)\n"
      ],
      "execution_count": 10,
      "outputs": [
        {
          "output_type": "stream",
          "text": [
            "<Response [200]>\n",
            "1\n",
            "전체 페이지 수 :  169\n"
          ],
          "name": "stdout"
        }
      ]
    },
    {
      "cell_type": "code",
      "metadata": {
        "id": "sc_2x0IYBSOF",
        "colab_type": "code",
        "outputId": "65e4860f-4879-4bd1-8779-d2ac2cf3f725",
        "colab": {
          "base_uri": "https://localhost:8080/",
          "height": 140
        }
      },
      "source": [
        "table = soup.find_all('table')\n",
        "print(len(table))\n",
        "table = table[4]\n",
        "df =pd.read_html(str(table))[0][0:5]\n",
        "print(df)"
      ],
      "execution_count": 17,
      "outputs": [
        {
          "output_type": "stream",
          "text": [
            "12\n",
            "          0                 1\n",
            "0      시가총액           743  억원\n",
            "1    시가총액순위          코스닥 835위\n",
            "2     상장주식수           9048000\n",
            "3  액면가l매매단위        500원  l 1주\n",
            "4  주총일l전자투표  2019.03.28 l 미도입\n"
          ],
          "name": "stdout"
        }
      ]
    },
    {
      "cell_type": "code",
      "metadata": {
        "id": "34qSz2RnD3-r",
        "colab_type": "code",
        "colab": {}
      },
      "source": [
        "t_one = table[0]\n",
        "#print(t_one)\n",
        "df = pd.read_html(str(table))"
      ],
      "execution_count": 0,
      "outputs": []
    },
    {
      "cell_type": "code",
      "metadata": {
        "id": "UiLvBMRgFhbs",
        "colab_type": "code",
        "colab": {}
      },
      "source": [
        "print(len(df))\n",
        "print(df[2].columns)\n",
        "print(df[2].index)\n",
        "print(len(df[2]))\n",
        "print(df[2])"
      ],
      "execution_count": 0,
      "outputs": []
    },
    {
      "cell_type": "code",
      "metadata": {
        "id": "3QN7HtRaJm-5",
        "colab_type": "code",
        "outputId": "b9e793fc-bc87-471f-e2cc-b8bb4c397489",
        "colab": {
          "base_uri": "https://localhost:8080/",
          "height": 2023
        }
      },
      "source": [
        "\n",
        "#print(str(table[2]))\n",
        "#page = 1\n",
        "last_page = page\n",
        "code_num = '049430'\n",
        "for page in range(1, 10): \n",
        "#    pg_url = 'http://finance.naver.com/item/sise_day.nhn?code=' + code_num + '&page='+ str(page)\n",
        "    pg_url = 'http://finance.naver.com/item/frgn.nhn?code='+ code_num + '&page='+ str(page) # 주소는 바르게 찾았음....\n",
        "#    df = pd.read_html(pg_url)\n",
        "    df = df.append(pd.read_html(pg_url)[0], ignore_index=True)\n",
        "\n",
        "print(pg_url)\n",
        "#df = pd.read_html(pg_url,'lxml', header = 0)\n",
        "print(df)"
      ],
      "execution_count": 22,
      "outputs": [
        {
          "output_type": "stream",
          "text": [
            "http://finance.naver.com/item/frgn.nhn?code=049430&page=9\n",
            "                     0                                           1  \\\n",
            "0                  NaN                                         NaN   \n",
            "1                  NaN                                         NaN   \n",
            "2                  NaN                                         NaN   \n",
            "3                  NaN                                         NaN   \n",
            "4                  NaN                                         NaN   \n",
            "5                  NaN                                         NaN   \n",
            "6                  NaN                                         NaN   \n",
            "7                  NaN                                         NaN   \n",
            "8                  NaN                                         NaN   \n",
            "9                  NaN                                         NaN   \n",
            "10                 NaN                                         NaN   \n",
            "11                 NaN                                         NaN   \n",
            "12                 NaN                                         NaN   \n",
            "13                 NaN                                         NaN   \n",
            "14                 NaN                                         NaN   \n",
            "15                 NaN                                         NaN   \n",
            "16                 NaN                                         NaN   \n",
            "17                 NaN                                         NaN   \n",
            "18  ÀüÀÏ  8,250  8,250  °í°¡  8,2508,250  (»óÇÑ°¡  10,70010,700  )   \n",
            "19    ½Ã°¡  8,2508,250         Àú°¡  8,1008,100  (ÇÏÇÑ°¡  5,780  )   \n",
            "20  ÀüÀÏ  8,250  8,250  °í°¡  8,2508,250  (»óÇÑ°¡  10,70010,700  )   \n",
            "21    ½Ã°¡  8,2508,250         Àú°¡  8,1008,100  (ÇÏÇÑ°¡  5,780  )   \n",
            "22  ÀüÀÏ  8,250  8,250  °í°¡  8,2508,250  (»óÇÑ°¡  10,70010,700  )   \n",
            "23    ½Ã°¡  8,2508,250         Àú°¡  8,1008,100  (ÇÏÇÑ°¡  5,780  )   \n",
            "24  ÀüÀÏ  8,250  8,250  °í°¡  8,2508,250  (»óÇÑ°¡  10,70010,700  )   \n",
            "25    ½Ã°¡  8,2508,250         Àú°¡  8,1008,100  (ÇÏÇÑ°¡  5,780  )   \n",
            "26  ÀüÀÏ  8,250  8,250  °í°¡  8,2508,250  (»óÇÑ°¡  10,70010,700  )   \n",
            "27    ½Ã°¡  8,2508,250         Àú°¡  8,1008,100  (ÇÏÇÑ°¡  5,780  )   \n",
            "28  ÀüÀÏ  8,250  8,250  °í°¡  8,2508,250  (»óÇÑ°¡  10,70010,700  )   \n",
            "29    ½Ã°¡  8,2508,250         Àú°¡  8,1008,100  (ÇÏÇÑ°¡  5,780  )   \n",
            "30  ÀüÀÏ  8,250  8,250  °í°¡  8,2508,250  (»óÇÑ°¡  10,70010,700  )   \n",
            "31    ½Ã°¡  8,2508,250         Àú°¡  8,1008,100  (ÇÏÇÑ°¡  5,780  )   \n",
            "32  ÀüÀÏ  8,250  8,250  °í°¡  8,2508,250  (»óÇÑ°¡  10,70010,700  )   \n",
            "33    ½Ã°¡  8,2508,250         Àú°¡  8,1008,100  (ÇÏÇÑ°¡  5,780  )   \n",
            "34  ÀüÀÏ  8,250  8,250  °í°¡  8,2508,250  (»óÇÑ°¡  10,70010,700  )   \n",
            "35    ½Ã°¡  8,2508,250         Àú°¡  8,1008,100  (ÇÏÇÑ°¡  5,780  )   \n",
            "\n",
            "                         2  °Å·¡·®  10,694  10,694  \\\n",
            "0                      NaN  °Å·¡´ë±Ý  87  87  ¹é¸¸   \n",
            "1                      NaN  °Å·¡´ë±Ý  87  87  ¹é¸¸   \n",
            "2                      NaN  °Å·¡´ë±Ý  87  87  ¹é¸¸   \n",
            "3                      NaN  °Å·¡´ë±Ý  87  87  ¹é¸¸   \n",
            "4                      NaN  °Å·¡´ë±Ý  87  87  ¹é¸¸   \n",
            "5                      NaN  °Å·¡´ë±Ý  87  87  ¹é¸¸   \n",
            "6                      NaN  °Å·¡´ë±Ý  87  87  ¹é¸¸   \n",
            "7                      NaN  °Å·¡´ë±Ý  87  87  ¹é¸¸   \n",
            "8                      NaN  °Å·¡´ë±Ý  87  87  ¹é¸¸   \n",
            "9                      NaN  °Å·¡´ë±Ý  87  87  ¹é¸¸   \n",
            "10                     NaN  °Å·¡´ë±Ý  87  87  ¹é¸¸   \n",
            "11                     NaN  °Å·¡´ë±Ý  87  87  ¹é¸¸   \n",
            "12                     NaN  °Å·¡´ë±Ý  87  87  ¹é¸¸   \n",
            "13                     NaN  °Å·¡´ë±Ý  87  87  ¹é¸¸   \n",
            "14                     NaN  °Å·¡´ë±Ý  87  87  ¹é¸¸   \n",
            "15                     NaN  °Å·¡´ë±Ý  87  87  ¹é¸¸   \n",
            "16                     NaN  °Å·¡´ë±Ý  87  87  ¹é¸¸   \n",
            "17                     NaN  °Å·¡´ë±Ý  87  87  ¹é¸¸   \n",
            "18  °Å·¡·®  10,694  10,694                     NaN   \n",
            "19  °Å·¡´ë±Ý  87  87  ¹é¸¸                     NaN   \n",
            "20  °Å·¡·®  10,694  10,694                     NaN   \n",
            "21  °Å·¡´ë±Ý  87  87  ¹é¸¸                     NaN   \n",
            "22  °Å·¡·®  10,694  10,694                     NaN   \n",
            "23  °Å·¡´ë±Ý  87  87  ¹é¸¸                     NaN   \n",
            "24  °Å·¡·®  10,694  10,694                     NaN   \n",
            "25  °Å·¡´ë±Ý  87  87  ¹é¸¸                     NaN   \n",
            "26  °Å·¡·®  10,694  10,694                     NaN   \n",
            "27  °Å·¡´ë±Ý  87  87  ¹é¸¸                     NaN   \n",
            "28  °Å·¡·®  10,694  10,694                     NaN   \n",
            "29  °Å·¡´ë±Ý  87  87  ¹é¸¸                     NaN   \n",
            "30  °Å·¡·®  10,694  10,694                     NaN   \n",
            "31  °Å·¡´ë±Ý  87  87  ¹é¸¸                     NaN   \n",
            "32  °Å·¡·®  10,694  10,694                     NaN   \n",
            "33  °Å·¡´ë±Ý  87  87  ¹é¸¸                     NaN   \n",
            "34  °Å·¡·®  10,694  10,694                     NaN   \n",
            "35  °Å·¡´ë±Ý  87  87  ¹é¸¸                     NaN   \n",
            "\n",
            "   °í°¡  8,2508,250  (»óÇÑ°¡  10,70010,700  ) ÀüÀÏ  8,250  8,250  \n",
            "0         Àú°¡  8,1008,100  (ÇÏÇÑ°¡  5,780  )   ½Ã°¡  8,2508,250  \n",
            "1         Àú°¡  8,1008,100  (ÇÏÇÑ°¡  5,780  )   ½Ã°¡  8,2508,250  \n",
            "2         Àú°¡  8,1008,100  (ÇÏÇÑ°¡  5,780  )   ½Ã°¡  8,2508,250  \n",
            "3         Àú°¡  8,1008,100  (ÇÏÇÑ°¡  5,780  )   ½Ã°¡  8,2508,250  \n",
            "4         Àú°¡  8,1008,100  (ÇÏÇÑ°¡  5,780  )   ½Ã°¡  8,2508,250  \n",
            "5         Àú°¡  8,1008,100  (ÇÏÇÑ°¡  5,780  )   ½Ã°¡  8,2508,250  \n",
            "6         Àú°¡  8,1008,100  (ÇÏÇÑ°¡  5,780  )   ½Ã°¡  8,2508,250  \n",
            "7         Àú°¡  8,1008,100  (ÇÏÇÑ°¡  5,780  )   ½Ã°¡  8,2508,250  \n",
            "8         Àú°¡  8,1008,100  (ÇÏÇÑ°¡  5,780  )   ½Ã°¡  8,2508,250  \n",
            "9         Àú°¡  8,1008,100  (ÇÏÇÑ°¡  5,780  )   ½Ã°¡  8,2508,250  \n",
            "10        Àú°¡  8,1008,100  (ÇÏÇÑ°¡  5,780  )   ½Ã°¡  8,2508,250  \n",
            "11        Àú°¡  8,1008,100  (ÇÏÇÑ°¡  5,780  )   ½Ã°¡  8,2508,250  \n",
            "12        Àú°¡  8,1008,100  (ÇÏÇÑ°¡  5,780  )   ½Ã°¡  8,2508,250  \n",
            "13        Àú°¡  8,1008,100  (ÇÏÇÑ°¡  5,780  )   ½Ã°¡  8,2508,250  \n",
            "14        Àú°¡  8,1008,100  (ÇÏÇÑ°¡  5,780  )   ½Ã°¡  8,2508,250  \n",
            "15        Àú°¡  8,1008,100  (ÇÏÇÑ°¡  5,780  )   ½Ã°¡  8,2508,250  \n",
            "16        Àú°¡  8,1008,100  (ÇÏÇÑ°¡  5,780  )   ½Ã°¡  8,2508,250  \n",
            "17        Àú°¡  8,1008,100  (ÇÏÇÑ°¡  5,780  )   ½Ã°¡  8,2508,250  \n",
            "18                                        NaN                NaN  \n",
            "19                                        NaN                NaN  \n",
            "20                                        NaN                NaN  \n",
            "21                                        NaN                NaN  \n",
            "22                                        NaN                NaN  \n",
            "23                                        NaN                NaN  \n",
            "24                                        NaN                NaN  \n",
            "25                                        NaN                NaN  \n",
            "26                                        NaN                NaN  \n",
            "27                                        NaN                NaN  \n",
            "28                                        NaN                NaN  \n",
            "29                                        NaN                NaN  \n",
            "30                                        NaN                NaN  \n",
            "31                                        NaN                NaN  \n",
            "32                                        NaN                NaN  \n",
            "33                                        NaN                NaN  \n",
            "34                                        NaN                NaN  \n",
            "35                                        NaN                NaN  \n"
          ],
          "name": "stdout"
        }
      ]
    },
    {
      "cell_type": "code",
      "metadata": {
        "id": "DJ465rDWXP4I",
        "colab_type": "code",
        "outputId": "b8f28342-face-4270-991d-80cbd1026ecf",
        "colab": {
          "base_uri": "https://localhost:8080/",
          "height": 380
        }
      },
      "source": [
        "pd.read_html(pg_url, header=0)[0]"
      ],
      "execution_count": 0,
      "outputs": [
        {
          "output_type": "error",
          "ename": "ModuleNotFoundError",
          "evalue": "ignored",
          "traceback": [
            "\u001b[0;31m---------------------------------------------------------------------------\u001b[0m",
            "\u001b[0;31mModuleNotFoundError\u001b[0m                       Traceback (most recent call last)",
            "\u001b[0;32m<ipython-input-30-a2be97c38113>\u001b[0m in \u001b[0;36m<module>\u001b[0;34m()\u001b[0m\n\u001b[0;32m----> 1\u001b[0;31m \u001b[0;32mimport\u001b[0m \u001b[0mBeautifulSoup\u001b[0m\u001b[0;34m\u001b[0m\u001b[0;34m\u001b[0m\u001b[0m\n\u001b[0m\u001b[1;32m      2\u001b[0m \u001b[0;32mfrom\u001b[0m \u001b[0mBeautifulSoup\u001b[0m \u001b[0;32mimport\u001b[0m \u001b[0mBeautifulSoup\u001b[0m\u001b[0;34m\u001b[0m\u001b[0;34m\u001b[0m\u001b[0m\n\u001b[1;32m      3\u001b[0m \u001b[0;32mimport\u001b[0m \u001b[0murllib2\u001b[0m\u001b[0;34m\u001b[0m\u001b[0;34m\u001b[0m\u001b[0m\n\u001b[1;32m      4\u001b[0m \u001b[0mhtml\u001b[0m \u001b[0;34m=\u001b[0m \u001b[0murllib2\u001b[0m\u001b[0;34m.\u001b[0m\u001b[0murlopen\u001b[0m\u001b[0;34m(\u001b[0m\u001b[0murl\u001b[0m\u001b[0;34m)\u001b[0m\u001b[0;34m\u001b[0m\u001b[0;34m\u001b[0m\u001b[0m\n\u001b[1;32m      5\u001b[0m \u001b[0mso\u001b[0m \u001b[0;34m=\u001b[0m \u001b[0mBeautifulSoup\u001b[0m\u001b[0;34m(\u001b[0m\u001b[0mhtml\u001b[0m\u001b[0;34m.\u001b[0m\u001b[0mread\u001b[0m\u001b[0;34m(\u001b[0m\u001b[0;34m)\u001b[0m\u001b[0;34m,\u001b[0m \u001b[0;34m\"html.parser\"\u001b[0m\u001b[0;34m)\u001b[0m\u001b[0;34m\u001b[0m\u001b[0;34m\u001b[0m\u001b[0m\n",
            "\u001b[0;31mModuleNotFoundError\u001b[0m: No module named 'BeautifulSoup'",
            "",
            "\u001b[0;31m---------------------------------------------------------------------------\u001b[0;32m\nNOTE: If your import is failing due to a missing package, you can\nmanually install dependencies using either !pip or !apt.\n\nTo view examples of installing some common dependencies, click the\n\"Open Examples\" button below.\n\u001b[0;31m---------------------------------------------------------------------------\u001b[0m\n"
          ]
        }
      ]
    },
    {
      "cell_type": "code",
      "metadata": {
        "id": "zRhgSSatsmry",
        "colab_type": "code",
        "outputId": "c5e92908-d99e-4c7b-b7a9-5a9e822812c4",
        "colab": {
          "base_uri": "https://localhost:8080/",
          "height": 2888
        }
      },
      "source": [
        "soup.find_all('a')"
      ],
      "execution_count": 0,
      "outputs": [
        {
          "output_type": "execute_result",
          "data": {
            "text/plain": [
              "[<a href=\"#menu\" tabindex=\"1\"><span>메인 메뉴로 바로가기</span></a>,\n",
              " <a href=\"#middle\" tabindex=\"2\"><span>본문으로 바로가기</span></a>,\n",
              " <a class=\"logo_naver\" href=\"https://www.naver.com/\" onclick=\"clickcr(this, 'STA.naver', '', '', event);\"><span class=\"blind\">네이버</span></a>,\n",
              " <a class=\"logo_service\" href=\"/\" onclick=\"clickcr(this, 'STA.finance', '', '', event);\"><span class=\"blind\">금융</span></a>,\n",
              " <a class=\"btn_arrow\" href=\"#\" id=\"nautocomplete\" onclick=\"return false\"><span class=\"blind\">자동완성 펼치기</span></a>,\n",
              " <a class=\"snb_search_btn-total\" href=\"#\" onclick=\"itegrationSearch();clickcr(this, 'STA.nx', '', '', event);return false;\" target=\"_blank\">통합검색</a>,\n",
              " <a href=\"/\" onclick=\"clickcr(this, 'LNB.home', '', '', event);\"><span class=\"tx\">금융 홈</span></a>,\n",
              " <a href=\"/sise/\" onclick=\"clickcr(this, 'LNB.sise', '', '', event);\"><span class=\"tx\">국내증시</span></a>,\n",
              " <a href=\"/world/\" onclick=\"clickcr(this, 'LNB.world', '', '', event);\"><span class=\"tx\">해외증시</span></a>,\n",
              " <a href=\"/marketindex/\" onclick=\"clickcr(this, 'LNB.market', '', '', event);\"><span class=\"tx\">시장지표</span></a>,\n",
              " <a href=\"/fund/\" onclick=\"clickcr(this, 'LNB.fund', '', '', event);\"><span class=\"tx\">펀드</span></a>,\n",
              " <a href=\"/research/\" onclick=\"clickcr(this, 'LNB.research', '', '', event);\"><span class=\"tx\">투자전략</span></a>,\n",
              " <a href=\"/news/\"><span class=\"tx\">뉴스</span></a>,\n",
              " <a href=\"/mystock/\" onclick=\"clickcr(this, 'LNB.mystock', '', '', event);\"><span class=\"tx\">MY</span></a>,\n",
              " <a href=\"/recommendationItem/\" onclick=\"clickcr(this, 'LNB.rec', '', '', event);\"><span class=\"tx\">추천종목</span></a>,\n",
              " <a href=\"https://finance.naver.com/notice.nhn?permLink=/read/1100001004/10000000000030665505\" onclick=\"clickcr(this, 'rec.con1', '', '', event);\" target=\"_blank\"><b>(중요) MY '매매내역' 및 'MY펀드'서비스가 종료되었습니다.</b></a>,\n",
              " <a href=\"https://finance.naver.com/notice.nhn?permLink=/read/1100001004/10000000000030665895\" onclick=\"clickcr(this, 'rec.con2', '', '', event);\" target=\"_blank\"> 해외 증시휴장일 정보 제공 종료  </a>,\n",
              " <a href=\"https://short.krx.co.kr/\" onclick=\"clickcr(this, 'rec.con3', '', '', event);\" target=\"_blank\">[한국거래소] 공매도 종합 포털</a>,\n",
              " <a href=\"https://m.irgo.co.kr/\" onclick=\"clickcr(this, 'rec.con4', '', '', event);\" target=\"_blank\">[IRGO] 상장기업 IR 종합 포털</a>,\n",
              " <a href=\"#\" onclick=\"clickcr(this, 'sop.title', '', '', event);window.location.reload();\">코메론</a>,\n",
              " <a href=\"#\" onclick=\"togglePannel('summary_lyr'); return false;\"></a>,\n",
              " <a href=\"#\" onclick=\"hidePannel('summary_lyr'); return false;\"><img alt=\"닫기\" height=\"11\" src=\"https://ssl.pstatic.net/static/nfinance/img/btn_close.gif\" width=\"11\"/></a>,\n",
              " <a class=\"snb_top1\" href=\"#\" onclick=\"clickcr(this,'sop.2','','',event);\"><span class=\"blind\">MY STOCK 추가</span></a>,\n",
              " <a class=\"snb_top3\" href=\"javascript:quickorder('on')\" onclick=\"clickcr(this,'sop.3','','',event);\"><span class=\"blind\">빠른주문</span></a>,\n",
              " <a href=\"javascript:quickorder('off')\"><img alt=\"닫기\" height=\"20\" src=\"https://ssl.pstatic.net/imgstock/item_renewal/btn_close.gif\" width=\"38\"/></a>,\n",
              " <a href=\"javascript:quickorder('off')\"><img alt=\"닫기\" height=\"19\" src=\"https://ssl.pstatic.net/imgstock/item_renewal/btn_close_x.gif\" width=\"19\"/></a>,\n",
              " <a class=\"on\" href=\"#\" onclick=\"showChart('day')\">1일</a>,\n",
              " <a href=\"#\" onclick=\"showChart('week')\">1주일</a>,\n",
              " <a href=\"#\" onclick=\"showChart('month3');\">3개월</a>,\n",
              " <a href=\"#\" onclick=\"showChart('year');\">1년</a>,\n",
              " <a href=\"#\" onclick=\"showChart('year3');\">3년</a>,\n",
              " <a href=\"#\" onclick=\"showChart('year5');\">5년</a>,\n",
              " <a href=\"#\" onclick=\"showChart('year10');\">10년</a>,\n",
              " <a href=\"#\" onclick=\"showBarChart('day');\">일봉</a>,\n",
              " <a href=\"#\" onclick=\"showBarChart('week');\">주봉</a>,\n",
              " <a href=\"#\" onclick=\"showBarChart('month');\">월봉</a>,\n",
              " <a class=\"btn_close\" href=\"javascript:fchartStatus.showChartArea('049430', '%C4%DA%B8%DE%B7%D0', 'false')\" onclick=\"clickcr(this,'sop.toggle','','',event);\">\n",
              " <div id=\"btn_close\">\n",
              " <img alt=\"차트열기\" height=\"11\" src=\"https://ssl.pstatic.net/imgstock/item_renewal/btn_lay_open.gif\" width=\"45\"/>\n",
              " </div>\n",
              " </a>,\n",
              " <a class=\"tab1\" href=\"/item/main.nhn?code=049430\" onclick=\"clickcr(this,'sop.4','','',event);\"><span>종합정보</span></a>,\n",
              " <a class=\"tab2\" href=\"/item/sise.nhn?code=049430\" onclick=\"clickcr(this,'sop.5','','',event);\"><span>시세</span></a>,\n",
              " <a class=\"tab3\" href=\"/item/fchart.nhn?code=049430\" onclick=\"clickcr(this,'sop.6','','',event);\"><span>차트</span></a>,\n",
              " <a class=\"tab4\" href=\"/item/frgn.nhn?code=049430\" onclick=\"clickcr(this,'sop.10','','',event);\"><span>투자자별 매매동향</span></a>,\n",
              " <a class=\"tab5\" href=\"/item/news.nhn?code=049430\" onclick=\"clickcr(this,'sop.7','','',event);\"><span>뉴스·공시</span></a>,\n",
              " <a class=\"tab6\" href=\"/item/coinfo.nhn?code=049430\" onclick=\"clickcr(this,'sop.9','','',event);\"><span>종목분석</span></a>,\n",
              " <a class=\"tab7\" href=\"/item/board.nhn?code=049430\" onclick=\"clickcr(this,'sop.11','','',event);\"><span>종목토론실</span></a>,\n",
              " <a class=\"tab8\" href=\"/item/dart.nhn?code=049430\" onclick=\"clickcr(this,'sop.12','','',event);\"><span>전자공시</span></a>,\n",
              " <a class=\"tab9\" href=\"/item/short_trade.nhn?code=049430\" onclick=\"clickcr(this,'sop.13','','',event);\"><span>공매도현황</span></a>,\n",
              " <a class=\"p11 red03 u\" href=\"javascript:select_type('frgn_chart')\" id=\"frgn_chart_title\">외국인</a>,\n",
              " <a class=\"p11\" href=\"javascript:select_type('organ_chart')\" id=\"organ_chart_title\">기관</a>,\n",
              " <a href=\"javascript:select_gigan('frgn_chart', 0)\"><img alt=\"1개월\" height=\"25\" id=\"frgn_chart_img_0\" src=\"https://ssl.pstatic.net/imgstock/images5/stab01_01_on.gif\" width=\"77\"/></a>,\n",
              " <a href=\"javascript:select_gigan('frgn_chart', 1)\"><img alt=\"3개월\" height=\"25\" id=\"frgn_chart_img_1\" src=\"https://ssl.pstatic.net/imgstock/images5/stab01_02_off.gif\" width=\"77\"/></a>,\n",
              " <a href=\"javascript:select_gigan('frgn_chart', 2)\"><img alt=\"6개월\" height=\"25\" id=\"frgn_chart_img_2\" src=\"https://ssl.pstatic.net/imgstock/images5/stab01_03_off.gif\" width=\"77\"/></a>,\n",
              " <a href=\"javascript:select_gigan('frgn_chart', 3)\"><img alt=\"1년\" height=\"25\" id=\"frgn_chart_img_3\" src=\"https://ssl.pstatic.net/imgstock/images5/stab01_04_off.gif\" width=\"77\"/></a>,\n",
              " <a href=\"javascript:select_gigan('organ_chart', 0)\"><img alt=\"1개월\" height=\"25\" id=\"organ_chart_img_0\" src=\"https://ssl.pstatic.net/imgstock/images5/stab01_01_on.gif\" width=\"77\"/></a>,\n",
              " <a href=\"javascript:select_gigan('organ_chart', 1)\"><img alt=\"3개월\" height=\"25\" id=\"organ_chart_img_1\" src=\"https://ssl.pstatic.net/imgstock/images5/stab01_02_off.gif\" width=\"77\"/></a>,\n",
              " <a href=\"javascript:select_gigan('organ_chart', 2)\"><img alt=\"6개월\" height=\"25\" id=\"organ_chart_img_2\" src=\"https://ssl.pstatic.net/imgstock/images5/stab01_03_off.gif\" width=\"77\"/></a>,\n",
              " <a href=\"javascript:select_gigan('organ_chart', 3)\"><img alt=\"1년\" height=\"25\" id=\"organ_chart_img_3\" src=\"https://ssl.pstatic.net/imgstock/images5/stab01_04_off.gif\" width=\"77\"/></a>,\n",
              " <a href=\"/item/frgn.nhn?code=049430&amp;page=1\">1</a>,\n",
              " <a href=\"/item/frgn.nhn?code=049430&amp;page=2\">2</a>,\n",
              " <a href=\"/item/frgn.nhn?code=049430&amp;page=3\">3</a>,\n",
              " <a href=\"/item/frgn.nhn?code=049430&amp;page=4\">4</a>,\n",
              " <a href=\"/item/frgn.nhn?code=049430&amp;page=5\">5</a>,\n",
              " <a href=\"/item/frgn.nhn?code=049430&amp;page=6\">6</a>,\n",
              " <a href=\"/item/frgn.nhn?code=049430&amp;page=7\">7</a>,\n",
              " <a href=\"/item/frgn.nhn?code=049430&amp;page=8\">8</a>,\n",
              " <a href=\"/item/frgn.nhn?code=049430&amp;page=9\">9</a>,\n",
              " <a href=\"/item/frgn.nhn?code=049430&amp;page=10\">10</a>,\n",
              " <a href=\"/item/frgn.nhn?code=049430&amp;page=11\">\n",
              " \t\t\t\t다음<img alt=\"\" border=\"0\" height=\"5\" src=\"https://ssl.pstatic.net/static/n/cmn/bu_pgarR.gif\" width=\"3\"/>\n",
              " </a>,\n",
              " <a href=\"/item/frgn.nhn?code=049430&amp;page=169\">맨뒤\n",
              " \t\t\t\t<img alt=\"\" border=\"0\" height=\"5\" src=\"https://ssl.pstatic.net/static/n/cmn/bu_pgarRR.gif\" width=\"8\"/>\n",
              " </a>,\n",
              " <a href=\"javascript:showArea('tab_invest', 'tab tab_invest1', 'tab_con1', 'tab_con2')\" onclick=\"clickcr(this, 'sop.18', '', '2', event)\"><span>투자정보</span></a>,\n",
              " <a href=\"javascript:showArea('tab_invest', 'tab tab_invest2', 'tab_con2', 'tab_con1')\" onclick=\"clickcr(this, 'sop.20', '', '2', event)\"><span>호가10단계</span></a>,\n",
              " <a class=\"link_site\" href=\"/sise/sise_market_sum.nhn?sosok=1\" onclick=\"clickcr(this, 'sop.19', '', '1', event)\">시가총액순위</a>,\n",
              " <a class=\"link_site strong\" href=\"#\" onclick=\"togglePannel('helpPannel6');\">전자투표</a>,\n",
              " <a href=\"https://evote.ksd.or.kr\">예탁결제원</a>,\n",
              " <a href=\"https://v.miraeassetdaewoo.com\">미래에셋대우</a>,\n",
              " <a class=\"btn_close\" href=\"#\" onclick=\"hidePannel('helpPannel6');\"><span class=\"blind\">레이어 닫기</span></a>,\n",
              " <a href=\"javascript:togglePannel('helpPannel0');\" onmouseout=\"hidePannel('helpPannel0');\" onmouseover=\"showPannel('helpPannel0');\"><img alt=\"외국인소진율(B/A) 상세설명\" height=\"11\" src=\"https://ssl.pstatic.net/static/nfinance/2018/10/26/btn_help.png\" width=\"11\"/></a>,\n",
              " <a href=\"javascript:togglePannel('helpPannel1');\" onmouseout=\"hidePannel('helpPannel1');\" onmouseover=\"showPannel('helpPannel1');\"><img alt=\"추정PER EPS(FnGuide) 상세설명\" height=\"11\" src=\"https://ssl.pstatic.net/static/nfinance/2018/10/26/btn_help.png\" width=\"11\"/></a>,\n",
              " <a href=\"javascript:togglePannel('helpPannel2');\" onmouseout=\"hidePannel('helpPannel2');\" onmouseover=\"showPannel('helpPannel2');\"><img alt=\"PER EPS(KRX) 상세설명\" height=\"11\" src=\"https://ssl.pstatic.net/static/nfinance/2018/10/26/btn_help.png\" width=\"11\"/></a>,\n",
              " <a href=\"javascript:togglePannel('helpPannel3');\" onmouseout=\"hidePannel('helpPannel3');\" onmouseover=\"showPannel('helpPannel3');\"><img alt=\"추정PER EPS 상세설명\" height=\"11\" src=\"https://ssl.pstatic.net/static/nfinance/2018/10/26/btn_help.png\" width=\"11\"/></a>,\n",
              " <a href=\"javascript:togglePannel('helpPannel4');\" onmouseout=\"hidePannel('helpPannel4');\" onmouseover=\"showPannel('helpPannel4');\"><img alt=\"PBR | BPS 상세설명\" height=\"11\" src=\"https://ssl.pstatic.net/static/nfinance/2018/10/26/btn_help.png\" width=\"11\"/></a>,\n",
              " <a href=\"javascript:togglePannel('helpPannel5');\" onmouseout=\"hidePannel('helpPannel5');\" onmouseover=\"showPannel('helpPannel5');\"><img alt=\"배당수익률 상세설명\" height=\"11\" src=\"https://ssl.pstatic.net/static/nfinance/2018/10/26/btn_help.png\" width=\"11\"/></a>,\n",
              " <a class=\"link_site\" href=\"/sise/sise_group_detail.nhn?type=upjong&amp;no=138\" onclick=\"clickcr(this, 'sop.19', '', '2', event)\">동일업종 PER</a>,\n",
              " <a class=\"link_site\" href=\"/sise/sise_group_detail.nhn?type=upjong&amp;no=138\" onclick=\"clickcr(this, 'sop.19', '', '3', event)\">동일업종 등락률</a>,\n",
              " <a href=\"javascript:showRecent('tab_search', 'tab tab_search1', '049430', 'recent')\" onclick=\"jindo.$Cookie().set('summary_item_type', 'recent', 30, 'finance.naver.com'); clickcr(this, 'rch.1', '', '', event);\"><span>최근검색</span></a>,\n",
              " <a href=\"javascript:showRecent('tab_search', 'tab tab_search2', '049430', 'mystock')\" onclick=\"jindo.$Cookie().set('summary_item_type', 'mystock', 30, 'finance.naver.com'); clickcr(this, 'rch.3', '', '', event);\"><span>My stock</span></a>,\n",
              " <a href=\"javascript:showArea('tab_fav', 'tab tab_fav1', 'fav_kospi', 'fav_kosdaq')\" onclick=\"clickcr(this, 'pss.1', '', '', event);\"><span>코스피</span></a>,\n",
              " <a href=\"javascript:showArea('tab_fav', 'tab tab_fav2', 'fav_kosdaq', 'fav_kospi')\" onclick=\"clickcr(this, 'pss.3', '', '', event);\"><span>코스닥</span></a>,\n",
              " <a href=\"/item/main.nhn?code=035420\" onclick=\"clickcr(this, 'pss.2', '', '1', event);\" target=\"_top\">NAVER</a>,\n",
              " <a href=\"/item/main.nhn?code=035720\" onclick=\"clickcr(this, 'pss.2', '', '2', event);\" target=\"_top\">카카오</a>,\n",
              " <a href=\"/item/main.nhn?code=005930\" onclick=\"clickcr(this, 'pss.2', '', '3', event);\" target=\"_top\">삼성전자</a>,\n",
              " <a href=\"/item/main.nhn?code=068270\" onclick=\"clickcr(this, 'pss.2', '', '4', event);\" target=\"_top\">셀트리온</a>,\n",
              " <a href=\"/item/main.nhn?code=033180\" onclick=\"clickcr(this, 'pss.2', '', '5', event);\" target=\"_top\">필룩스</a>,\n",
              " <a href=\"/item/main.nhn?code=002780\" onclick=\"clickcr(this, 'pss.2', '', '6', event);\" target=\"_top\">진흥기업</a>,\n",
              " <a href=\"/item/main.nhn?code=064350\" onclick=\"clickcr(this, 'pss.2', '', '7', event);\" target=\"_top\">현대로템</a>,\n",
              " <a href=\"/item/main.nhn?code=006400\" onclick=\"clickcr(this, 'pss.2', '', '8', event);\" target=\"_top\">삼성SDI</a>,\n",
              " <a href=\"/item/main.nhn?code=047810\" onclick=\"clickcr(this, 'pss.2', '', '9', event);\" target=\"_top\">한국항공우주</a>,\n",
              " <a href=\"/item/main.nhn?code=023530\" onclick=\"clickcr(this, 'pss.2', '', '10', event);\" target=\"_top\">롯데쇼핑</a>,\n",
              " <a href=\"/item/main.nhn?code=078130\" onclick=\"clickcr(this, 'pss.4', '', '1', event);\" target=\"_top\">국일제지</a>,\n",
              " <a href=\"/item/main.nhn?code=065450\" onclick=\"clickcr(this, 'pss.4', '', '2', event);\" target=\"_top\">빅텍</a>,\n",
              " <a href=\"/item/main.nhn?code=950160\" onclick=\"clickcr(this, 'pss.4', '', '3', event);\" target=\"_top\">코오롱티슈진</a>,\n",
              " <a href=\"/item/main.nhn?code=048410\" onclick=\"clickcr(this, 'pss.4', '', '4', event);\" target=\"_top\">현대바이오</a>,\n",
              " <a href=\"/item/main.nhn?code=046890\" onclick=\"clickcr(this, 'pss.4', '', '5', event);\" target=\"_top\">서울반도체</a>,\n",
              " <a href=\"/item/main.nhn?code=041190\" onclick=\"clickcr(this, 'pss.4', '', '6', event);\" target=\"_top\">우리기술투자</a>,\n",
              " <a href=\"/item/main.nhn?code=240810\" onclick=\"clickcr(this, 'pss.4', '', '7', event);\" target=\"_top\">원익IPS</a>,\n",
              " <a href=\"/item/main.nhn?code=189300\" onclick=\"clickcr(this, 'pss.4', '', '8', event);\" target=\"_top\">인텔리안테크</a>,\n",
              " <a href=\"/item/main.nhn?code=091700\" onclick=\"clickcr(this, 'pss.4', '', '9', event);\" target=\"_top\">파트론</a>,\n",
              " <a href=\"/item/main.nhn?code=063440\" onclick=\"clickcr(this, 'pss.4', '', '10', event);\" target=\"_top\">SM Life Desig..</a>,\n",
              " <a href=\"/sise/sise_index.nhn?code=KOSPI\" onclick=\"clickcr(this, 'quk.2', '', '', event);\">코스피</a>,\n",
              " <a href=\"/sise/sise_index.nhn?code=KOSDAQ\" onclick=\"clickcr(this, 'quk.3', '', '', event);\">코스닥</a>,\n",
              " <a href=\"/sise/sise_index.nhn?code=FUT\" onclick=\"clickcr(this, 'quk.4', '', '', event);\">선물</a>,\n",
              " <a class=\"end\" href=\"/sise/konex.nhn\" onclick=\"clickcr(this, 'quk.konex', '', '', event);\">코넥스</a>,\n",
              " <a href=\"/sise/sise_index.nhn?code=KPI200\" onclick=\"clickcr(this, 'quk.30', '', '', event);\">코스피200</a>,\n",
              " <a href=\"/sise/etf.nhn\" onclick=\"clickcr(this, 'quk.31', '', '', event);\">ETF</a>,\n",
              " <a href=\"/sise/sise_group.nhn?type=upjong\" onclick=\"clickcr(this, 'quk.5', '', '', event);\"><strong>업종별</strong></a>,\n",
              " <a class=\"end\" href=\"/sise/theme.nhn\" onclick=\"clickcr(this, 'quk.6', '', '', event);\">테마별</a>,\n",
              " <a href=\"/sise/sise_upper.nhn\" onclick=\"clickcr(this, 'quk.7', '', '', event);\"><strong>상한가</strong></a>,\n",
              " <a href=\"/sise/sise_lower.nhn\" onclick=\"clickcr(this, 'quk.8', '', '', event);\">하한가</a>,\n",
              " <a href=\"/sise/sise_rise.nhn\" onclick=\"clickcr(this, 'quk.9', '', '', event);\">상승</a>,\n",
              " <a href=\"/sise/sise_steady.nhn\" onclick=\"clickcr(this, 'quk.10', '', '', event);\">보합</a>,\n",
              " <a class=\"end\" href=\"/sise/sise_fall.nhn\" onclick=\"clickcr(this, 'quk.11', '', '', event);\">하락</a>,\n",
              " <a href=\"/sise/sise_quant.nhn\" onclick=\"clickcr(this, 'quk.12', '', '', event);\">거래상위</a>,\n",
              " <a href=\"/sise/sise_quant_high.nhn\" onclick=\"clickcr(this, 'quk.13', '', '', event);\"><strong>급증</strong></a>,\n",
              " <a class=\"end\" href=\"/sise/sise_quant_low.nhn\" onclick=\"clickcr(this, 'quk.14', '', '', event);\">급감</a>,\n",
              " <a href=\"/sise/sise_high_down.nhn\" onclick=\"clickcr(this, 'quk.15', '', '', event);\">고가대비급락</a>,\n",
              " <a class=\"end\" href=\"/sise/sise_low_up.nhn\" onclick=\"clickcr(this, 'quk.16', '', '', event);\">저가대비급등</a>,\n",
              " <a href=\"/sise/sise_market_sum.nhn\" onclick=\"clickcr(this, 'quk.17', '', '', event);\"><strong>시가총액상위</strong></a>,\n",
              " <a class=\"end\" href=\"/sise/sise_foreign_hold.nhn\" onclick=\"clickcr(this, 'quk.18', '', '', event);\">외국인보유현황</a>,\n",
              " <a href=\"/sise/sise_deal_rank.nhn\" onclick=\"clickcr(this, 'quk.19', '', '', event);\">외국인매매</a>,\n",
              " <a href=\"/sise/sise_deal_rank.nhn?investor_gubun=1000\" onclick=\"clickcr(this, 'quk.19-1', '', '', event);\">기관매매</a>,\n",
              " <a class=\"end\" href=\"/sise/sise_program.nhn\" onclick=\"clickcr(this, 'quk.20', '', '', event);\">프로그램매매</a>,\n",
              " <a href=\"/sise/management.nhn\" onclick=\"clickcr(this, 'quk.21', '', '', event);\">관리·감리종목</a>,\n",
              " <a class=\"end\" href=\"/sise/sise_new_stock.nhn\" onclick=\"clickcr(this, 'quk.22', '', '', event);\">신규상장종목</a>,\n",
              " <a href=\"/sise/sise_deposit.nhn\" onclick=\"clickcr(this, 'quk.23', '', '', event);\">증시자금동향</a>,\n",
              " <a class=\"end\" href=\"/sise/sise_trans_style.nhn\" onclick=\"clickcr(this, 'quk.24', '', '', event);\">투자자별매매동향</a>,\n",
              " <a href=\"/sise/item_gap.nhn\" onclick=\"clickcr(this, 'quk.25', '', '', event);\">갭상승 종목</a>,\n",
              " <a class=\"end\" href=\"/sise/item_gold.nhn\" onclick=\"clickcr(this, 'quk.26', '', '', event);\">골든크로스 종목</a>,\n",
              " <a href=\"/sise/item_igyuk.nhn\" onclick=\"clickcr(this, 'quk.27', '', '', event);\">이격도과열종목</a>,\n",
              " <a class=\"end\" href=\"/sise/item_overheating_1.nhn\" onclick=\"clickcr(this, 'quk.28', '', '', event);\">투자심리과열종목</a>,\n",
              " <a class=\"end\" href=\"/sise/item_overheating_2.nhn\" onclick=\"clickcr(this, 'quk.29', '', '', event);\">상대강도과열종목</a>,\n",
              " <a class=\"more\" href=\"/sise/\" onclick=\"clickcr(this, 'quk.1', '', '', event);\">더보기</a>,\n",
              " <a href=\"https://finance.naver.com/notice.nhn?permLink=/read/1100001004/10000000000030665895\" onclick=\"clickcr(this, 'ice.2', 'https://finance.naver.com/notice.nhn?permLink=/read/1100001004/10000000000030665895', '1', event)\">해외 증시휴장일 정보 제공 종료</a>,\n",
              " <a href=\"https://finance.naver.com/notice.nhn?permLink=/read/1100001004/10000000000030665505\" onclick=\"clickcr(this, 'ice.2', 'https://finance.naver.com/notice.nhn?permLink=/read/1100001004/10000000000030665505', '2', event)\"> MY '매매내역' 및 'MY펀드...</a>,\n",
              " <a href=\"\" onclick=\"clickcr(this, 'ice.2', '', '3', event)\"></a>,\n",
              " <a href=\"\" onclick=\"clickcr(this, 'ice.2', '', '4', event)\"></a>,\n",
              " <a href=\"\" onclick=\"clickcr(this, 'ice.2', '', '5', event)\"></a>,\n",
              " <a class=\"more\" href=\"https://finance.naver.com/notice.nhn\" onclick=\"clickcr(this, 'ice.1', '', '', event);\">더보기</a>,\n",
              " <a href=\"https://www.naver.com/rules/service.html\" onclick=\"clickcr(this, 'fot.service', '', '', event);\" target=\"_blank\">이용약관</a>,\n",
              " <a href=\"https://finance.naver.com/rules.nhn\" onclick=\"clickcr(this, 'fot.policy', '', '', event);\" target=\"_blank\">금융게시판 운영원칙</a>,\n",
              " <a href=\"https://www.naver.com/rules/privacy.html\" onclick=\"clickcr(this, 'fot.privacy', '', '', event);\" target=\"_blank\"><strong>개인정보처리방침</strong></a>,\n",
              " <a href=\"https://www.naver.com/rules/disclaimer.html\" onclick=\"clickcr(this, 'fot.limit', '', '', event);\" target=\"_blank\">책임의 한계와 법적고지</a>,\n",
              " <a href=\"https://help.naver.com/support/alias/contents2/finance/finance_1.naver\" onclick=\"clickcr(this, 'fot.help', '', '', event);\" target=\"_blank\">금융 고객센터</a>,\n",
              " <a class=\"desc_help\" href=\"javascript:;\" onclick=\"togglePanelFooter('footerPanel0');\"><img alt=\"제공업체 상세설명\" height=\"17\" src=\"https://ssl.pstatic.net/static/nfinance/2018/06/29/btn_help.png\" width=\"17\"/></a>,\n",
              " <a class=\"logo\" href=\"https://www.navercorp.com/\" onclick=\"clickcr(this, 'fot.nhn', '', '', event);\" target=\"_blank\"><img alt=\"NAVER\" height=\"11\" src=\"https://ssl.pstatic.net/static/nfinance/2019/02/22/ci_naver.png\" width=\"58\"/></a>,\n",
              " <a href=\"https://www.navercorp.com/\" onclick=\"clickcr(this, 'fot.nhn', '', '', event);\" target=\"_blank\">NAVER Corp.</a>]"
            ]
          },
          "metadata": {
            "tags": []
          },
          "execution_count": 47
        }
      ]
    }
  ]
}