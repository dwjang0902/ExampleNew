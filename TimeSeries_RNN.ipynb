{
  "nbformat": 4,
  "nbformat_minor": 0,
  "metadata": {
    "colab": {
      "name": "TimeSeries_RNN.ipynb",
      "version": "0.3.2",
      "provenance": [],
      "collapsed_sections": [],
      "include_colab_link": true
    },
    "kernelspec": {
      "name": "python3",
      "display_name": "Python 3"
    }
  },
  "cells": [
    {
      "cell_type": "markdown",
      "metadata": {
        "id": "view-in-github",
        "colab_type": "text"
      },
      "source": [
        "<a href=\"https://colab.research.google.com/github/dwjang0902/ExampleNew/blob/master/TimeSeries_RNN.ipynb\" target=\"_parent\"><img src=\"https://colab.research.google.com/assets/colab-badge.svg\" alt=\"Open In Colab\"/></a>"
      ]
    },
    {
      "metadata": {
        "id": "Igm4B_YAXrvj",
        "colab_type": "text"
      },
      "cell_type": "markdown",
      "source": [
        "참조 : https://www.math.purdue.edu/~nwinovic/slides/Getting_Started_with_TensorFlow_I.pdf\n",
        "http://androidkt.com/time-series/"
      ]
    },
    {
      "metadata": {
        "id": "aL-6JwNEYbfQ",
        "colab_type": "code",
        "outputId": "c78535e0-c7c3-4216-bd55-f65bede7fd5d",
        "colab": {
          "base_uri": "https://localhost:8080/",
          "height": 752
        }
      },
      "cell_type": "code",
      "source": [
        "# -*- coding: utf-8 -*-\n",
        "\"\"\"\n",
        "Created on Fri Apr 26 14:30:05 2019\n",
        "@author: Jang\n",
        "\"\"\"\n",
        "#http://androidkt.com/time-series/\n",
        "\n",
        "import sklearn \n",
        "from sklearn.model_selection import train_test_split\n",
        "import numpy as np\n",
        "from matplotlib import pyplot as plt\n",
        " \n",
        "import tensorflow as tf\n",
        "from tensorflow.python.platform import tf_logging as logging\n",
        " \n",
        "logging.set_verbosity(logging.INFO)\n",
        "logging.log(logging.INFO, \"Tensorflow version \" + tf.__version__)\n",
        " \n",
        "tf.reset_default_graph()\n",
        "    \n",
        "# Simulate Time Series Data \n",
        "def generate_time_series(datalen):\n",
        "    freq1 = 0.2\n",
        "    freq2 = 0.15\n",
        "    noise = [np.random.random() * 0.1 for i in range(datalen)]\n",
        "    x1 = np.sin(np.arange(0, datalen) * freq1) + noise\n",
        "    x2 = np.sin(np.arange(0, datalen) * freq2) + noise\n",
        "    x = x1 + x2\n",
        "    return x.astype(np.float32)\n",
        " \n",
        " \n",
        "DATA_SEQ_LEN = 24000\n",
        " \n",
        "data = generate_time_series(DATA_SEQ_LEN)\n",
        "#plt.plot(data[0:200])\n",
        "\n",
        "SEQLEN =3  # unrolled sequence length\n",
        "BATCHSIZE = 32\n",
        " \n",
        "X = data\n",
        "Y = np.roll(data, -1) # shift left\n",
        " \n",
        "X_train, X_test, Y_train, Y_test = train_test_split(X, Y,test_size=.2, random_state=0)\n",
        " \n",
        "X_train = np.reshape(X_train, [-1, SEQLEN,1])\n",
        "Y_train = np.reshape(Y_train, [-1, SEQLEN])\n",
        "X_test = np.reshape(X_test, [-1, SEQLEN,1])\n",
        "Y_test = np.reshape(Y_test, [-1, SEQLEN])\n",
        "\n",
        "print(X_train.shape)\n",
        "print(Y_train.shape)\n",
        "\n",
        "plt.plot(X_train[100])\n",
        "plt.plot(Y_train[100])\n",
        "\n",
        "\n",
        "# Model\n",
        "hidden_size = 4\n",
        "\n",
        "X = tf.placeholder(tf.float32, [None, SEQLEN,1]) # 3차원이 되어야 한다\n",
        "Y = tf.placeholder(tf.float32, [None, SEQLEN])\n",
        "\n",
        "cell = tf.contrib.rnn.BasicRNNCell(hidden_size)\n",
        "#initial_state = rnn_cell.zero_state(None, dtype=tf.float32)\n",
        "outputs, _states = tf.nn.dynamic_rnn(cell, X, dtype = tf.float32) # outputs = [batch_size, seq_len(max_time), hidden_size]; _states = [batch_size, hidden_size]\n",
        "results = tf.reduce_mean(outputs, [2])\n",
        "\n",
        "\n",
        "out_size = SEQLEN\n",
        "\n",
        "w = tf.Variable(tf.zeros([out_size, SEQLEN],dtype = tf.float32))\n",
        "b = tf.Variable(tf.zeros([out_size],dtype = tf.float32))\n",
        "predictions = tf.matmul(w,results) + b\n",
        "\n",
        "\n",
        "#loss = tf.losses.mean_squared_error(predictions = predictions, labels = Y,  weights=1.0)\n",
        "#loss_total = tf.reduce_mean(loss)  \n",
        "\n",
        "#optimizer = tf.train.AdamOptimizer(0.01)\n",
        "#train_opt = optimizer.minimize(loss)\n",
        "\n",
        "\n",
        "\n",
        "init = tf.global_variables_initializer()\n",
        "\n",
        "with tf.Session() as sess :\n",
        "    sess.run(init)\n",
        "    print(results.shape, w.shape, b.shape)\n",
        "    print(prediction.eval(feed_dict = {X : X_train[100:102]}))\n",
        "#    sess.run(predictions)\n",
        "#    sess.run([train_opt], feed_dict = {X : X_train , Y: X_train}) \n",
        "\n",
        "\n",
        "\n",
        "\n",
        "\n",
        "\"\"\"\n",
        "\n",
        "with tf.Session() as sess :\n",
        "   sess.run([train_opt, loss, predictions], feed_dict = {X : X_train , Y: X_train}) \n",
        "   \n",
        "    \n",
        "def train_dataset():\n",
        "    dataset = tf.data.Dataset.from_tensor_slices((X_train, Y_train))\n",
        "    dataset = dataset.repeat()\n",
        "    dataset = dataset.shuffle(DATA_SEQ_LEN * 4 // SEQLEN)\n",
        "    dataset = dataset.batch(BATCHSIZE)\n",
        "    samples, labels = dataset.make_one_shot_iterator().get_next()\n",
        "    return samples, labels\n",
        " \n",
        " \n",
        "def eval_dataset():\n",
        "    evaldataset = tf.data.Dataset.from_tensor_slices((X_test, Y_test))\n",
        "    evaldataset = evaldataset.repeat(1)\n",
        "    evaldataset = evaldataset.batch(BATCHSIZE)\n",
        " \n",
        "    samples, labels = evaldataset.make_one_shot_iterator().get_next()\n",
        "    return samples, labels\n",
        "\n",
        "\"\"\""
      ],
      "execution_count": 0,
      "outputs": [
        {
          "output_type": "stream",
          "text": [
            "INFO:tensorflow:Tensorflow version 1.13.1\n",
            "(6400, 3, 1)\n",
            "(6400, 3)\n",
            "(?, 3) (3, 3) (3,)\n"
          ],
          "name": "stdout"
        },
        {
          "output_type": "error",
          "ename": "ValueError",
          "evalue": "ignored",
          "traceback": [
            "\u001b[0;31m---------------------------------------------------------------------------\u001b[0m",
            "\u001b[0;31mValueError\u001b[0m                                Traceback (most recent call last)",
            "\u001b[0;32m<ipython-input-93-2bc48199ae21>\u001b[0m in \u001b[0;36m<module>\u001b[0;34m()\u001b[0m\n\u001b[1;32m     86\u001b[0m     \u001b[0msess\u001b[0m\u001b[0;34m.\u001b[0m\u001b[0mrun\u001b[0m\u001b[0;34m(\u001b[0m\u001b[0minit\u001b[0m\u001b[0;34m)\u001b[0m\u001b[0;34m\u001b[0m\u001b[0;34m\u001b[0m\u001b[0m\n\u001b[1;32m     87\u001b[0m     \u001b[0mprint\u001b[0m\u001b[0;34m(\u001b[0m\u001b[0mresults\u001b[0m\u001b[0;34m.\u001b[0m\u001b[0mshape\u001b[0m\u001b[0;34m,\u001b[0m \u001b[0mw\u001b[0m\u001b[0;34m.\u001b[0m\u001b[0mshape\u001b[0m\u001b[0;34m,\u001b[0m \u001b[0mb\u001b[0m\u001b[0;34m.\u001b[0m\u001b[0mshape\u001b[0m\u001b[0;34m)\u001b[0m\u001b[0;34m\u001b[0m\u001b[0;34m\u001b[0m\u001b[0m\n\u001b[0;32m---> 88\u001b[0;31m     \u001b[0mprint\u001b[0m\u001b[0;34m(\u001b[0m\u001b[0mprediction\u001b[0m\u001b[0;34m.\u001b[0m\u001b[0meval\u001b[0m\u001b[0;34m(\u001b[0m\u001b[0mfeed_dict\u001b[0m \u001b[0;34m=\u001b[0m \u001b[0;34m{\u001b[0m\u001b[0mX\u001b[0m \u001b[0;34m:\u001b[0m \u001b[0mX_train\u001b[0m\u001b[0;34m[\u001b[0m\u001b[0;36m100\u001b[0m\u001b[0;34m:\u001b[0m\u001b[0;36m102\u001b[0m\u001b[0;34m]\u001b[0m\u001b[0;34m}\u001b[0m\u001b[0;34m)\u001b[0m\u001b[0;34m)\u001b[0m\u001b[0;34m\u001b[0m\u001b[0;34m\u001b[0m\u001b[0m\n\u001b[0m\u001b[1;32m     89\u001b[0m \u001b[0;31m#    sess.run(predictions)\u001b[0m\u001b[0;34m\u001b[0m\u001b[0;34m\u001b[0m\u001b[0;34m\u001b[0m\u001b[0m\n\u001b[1;32m     90\u001b[0m \u001b[0;31m#    sess.run([train_opt], feed_dict = {X : X_train , Y: X_train})\u001b[0m\u001b[0;34m\u001b[0m\u001b[0;34m\u001b[0m\u001b[0;34m\u001b[0m\u001b[0m\n",
            "\u001b[0;32m/usr/local/lib/python3.6/dist-packages/tensorflow/python/framework/ops.py\u001b[0m in \u001b[0;36meval\u001b[0;34m(self, feed_dict, session)\u001b[0m\n\u001b[1;32m    693\u001b[0m \u001b[0;34m\u001b[0m\u001b[0m\n\u001b[1;32m    694\u001b[0m     \"\"\"\n\u001b[0;32m--> 695\u001b[0;31m     \u001b[0;32mreturn\u001b[0m \u001b[0m_eval_using_default_session\u001b[0m\u001b[0;34m(\u001b[0m\u001b[0mself\u001b[0m\u001b[0;34m,\u001b[0m \u001b[0mfeed_dict\u001b[0m\u001b[0;34m,\u001b[0m \u001b[0mself\u001b[0m\u001b[0;34m.\u001b[0m\u001b[0mgraph\u001b[0m\u001b[0;34m,\u001b[0m \u001b[0msession\u001b[0m\u001b[0;34m)\u001b[0m\u001b[0;34m\u001b[0m\u001b[0;34m\u001b[0m\u001b[0m\n\u001b[0m\u001b[1;32m    696\u001b[0m \u001b[0;34m\u001b[0m\u001b[0m\n\u001b[1;32m    697\u001b[0m \u001b[0;34m\u001b[0m\u001b[0m\n",
            "\u001b[0;32m/usr/local/lib/python3.6/dist-packages/tensorflow/python/framework/ops.py\u001b[0m in \u001b[0;36m_eval_using_default_session\u001b[0;34m(tensors, feed_dict, graph, session)\u001b[0m\n\u001b[1;32m   5170\u001b[0m                        \"`eval(session=sess)`\")\n\u001b[1;32m   5171\u001b[0m     \u001b[0;32mif\u001b[0m \u001b[0msession\u001b[0m\u001b[0;34m.\u001b[0m\u001b[0mgraph\u001b[0m \u001b[0;32mis\u001b[0m \u001b[0;32mnot\u001b[0m \u001b[0mgraph\u001b[0m\u001b[0;34m:\u001b[0m\u001b[0;34m\u001b[0m\u001b[0;34m\u001b[0m\u001b[0m\n\u001b[0;32m-> 5172\u001b[0;31m       raise ValueError(\"Cannot use the default session to evaluate tensor: \"\n\u001b[0m\u001b[1;32m   5173\u001b[0m                        \u001b[0;34m\"the tensor's graph is different from the session's \"\u001b[0m\u001b[0;34m\u001b[0m\u001b[0;34m\u001b[0m\u001b[0m\n\u001b[1;32m   5174\u001b[0m                        \u001b[0;34m\"graph. Pass an explicit session to \"\u001b[0m\u001b[0;34m\u001b[0m\u001b[0;34m\u001b[0m\u001b[0m\n",
            "\u001b[0;31mValueError\u001b[0m: Cannot use the default session to evaluate tensor: the tensor's graph is different from the session's graph. Pass an explicit session to `eval(session=sess)`."
          ]
        },
        {
          "output_type": "display_data",
          "data": {
            "image/png": "[encoded data removed]",
            "text/plain": [
              "<Figure size 432x288 with 1 Axes>"
            ]
          },
          "metadata": {
            "tags": []
          }
        }
      ]
    },
    {
      "metadata": {
        "id": "-xGhS_RmiTIH",
        "colab_type": "code",
        "colab": {
          "base_uri": "https://localhost:8080/",
          "height": 1681
        },
        "outputId": "e132a5ee-57a8-44fa-9dc9-5f34006aa304"
      },
      "cell_type": "code",
      "source": [
        "# https://mapr.com/blog/deep-learning-tensorflow/\n",
        "\n",
        "\n",
        "import sys\n",
        "sys.version\n",
        "\n",
        "import tensorflow as tf\n",
        "import pandas as pd\n",
        "import os\n",
        "import matplotlib.pyplot as plt\n",
        "import random\n",
        "import numpy as np\n",
        "\n",
        "\n",
        "random.seed(777)\n",
        "\n",
        "rng = pd.date_range(start = '2000', periods = 209, freq = \"M\" )\n",
        "ts = pd.Series(np.random.uniform(-10, 10, size = len(rng)), rng).cumsum()\n",
        "ts.plot(c = 'b', title = 'Example Time Series')\n",
        "plt.show()\n",
        "ts.head(10)\n",
        "\n",
        "TS = np.array(ts)\n",
        "num_periods = 10\n",
        "f_horizon = 1\n",
        "\n",
        "\n",
        "x_data = TS[:(len(TS)-(len(TS) % num_periods))]\n",
        "x_batches = x_data.reshape(-1, num_periods, 1)\n",
        "\n",
        "y_data = TS[1:(len(TS)-(len(TS) % num_periods))+f_horizon]\n",
        "y_batches = y_data.reshape(-1, num_periods, 1)\n",
        "\n",
        "print(len(x_batches))\n",
        "print(x_batches.shape)\n",
        "print(x_batches[0:1])\n",
        "\n",
        "print(len(y_batches))\n",
        "print(y_batches.shape)\n",
        "print(y_batches[0:1])\n",
        "\n",
        "# x_test\n",
        "def test_data(series, forecast, num_periods) :\n",
        "    test_x_setup = TS[-(num_periods+forecast):]\n",
        "    testX = test_x_setup[:num_periods].reshape(-1,10,1)\n",
        "    testY = TS[-(num_periods):].reshape(-1,10,1)\n",
        "    return testX, testY\n",
        "x_test, y_test = test_data(TS, f_horizon, num_periods)\n",
        "\n",
        "tf.reset_default_graph()\n",
        "\n",
        "num_periods = 10\n",
        "inputs = 1\n",
        "hidden = 100\n",
        "output = 1\n",
        "\n",
        "x = tf.placeholder(tf.float32, [None, num_periods, inputs])\n",
        "y = tf.placeholder(tf.float32, [None, num_periods, output])\n",
        "\n",
        "cell = tf.contrib.rnn.BasicRNNCell(num_units = hidden, activation = tf.nn.relu)\n",
        "outputs, _states = tf.nn.dynamic_rnn(cell, x, dtype = tf.float32)\n",
        "\n",
        "learning_rate = 0.001\n",
        "\n",
        "stacked_rnn_outputs = tf.reshape(outputs, [-1, hidden])\n",
        "stacked_outputs = tf.layers.dense(stacked_rnn_outputs, output)\n",
        "outputs = tf.reshape(stacked_outputs, [-1, num_periods, output])\n",
        "\n",
        "loss = tf.reduce_sum(tf.square(outputs - y))\n",
        "optimizer = tf.train.AdamOptimizer(learning_rate)\n",
        "training_op = optimizer.minimize(loss)\n",
        "\n",
        "init = tf.global_variables_initializer()\n",
        "\n",
        "epoches = 1000\n",
        "\n",
        "with tf.Session() as sess :\n",
        "    sess.run(init)\n",
        "    for ep in range(epoches) :\n",
        "        sess.run(training_op, feed_dict = { x : x_batches, y: y_batches})\n",
        "        \n",
        "        if ep % 100 == 0 :\n",
        "            mse = loss.eval(feed_dict = { x : x_batches, y: y_batches})\n",
        "            print(ep, \"\\MSE \", mse)\n",
        "\n",
        "    y_pred = sess.run(outputs, feed_dict = {x:x_test})\n",
        "    print(\" Prediction = \\n \", y_pred)\n",
        "        \n",
        "\n",
        "plt.title(\"Forecast vs Actual\", fontsize = 14)\n",
        "plt.plot( pd.Series(np.ravel(y_test)), \"bo\", markersize = 10, label =\"Actual\")\n",
        "\n",
        "plt.plot(pd.Series(np.ravel(y_pred)), \"r.\", markersize = 10, label = \"Forecast\")\n",
        "plt.legend(loc = \" upper right\")\n",
        "plt.xlabel(\"Time Periods\")\n",
        "plt.show\n",
        "        "
      ],
      "execution_count": 14,
      "outputs": [
        {
          "output_type": "display_data",
          "data": {
            "image/png": "[encoded data removed]",
            "text/plain": [
              "<Figure size 432x288 with 1 Axes>"
            ]
          },
          "metadata": {
            "tags": []
          }
        },
        {
          "output_type": "stream",
          "text": [
            "20\n",
            "(20, 10, 1)\n",
            "[[[  3.38128398]\n",
            "  [ -4.04616782]\n",
            "  [-11.82025045]\n",
            "  [-19.17117939]\n",
            "  [-28.27235377]\n",
            "  [-19.8335701 ]\n",
            "  [-17.0454886 ]\n",
            "  [-18.18252727]\n",
            "  [-14.93061793]\n",
            "  [ -8.2461401 ]]]\n",
            "20\n",
            "(20, 10, 1)\n",
            "[[[ -4.04616782]\n",
            "  [-11.82025045]\n",
            "  [-19.17117939]\n",
            "  [-28.27235377]\n",
            "  [-19.8335701 ]\n",
            "  [-17.0454886 ]\n",
            "  [-18.18252727]\n",
            "  [-14.93061793]\n",
            "  [ -8.2461401 ]\n",
            "  [ -0.82907179]]]\n",
            "0 \\MSE  388272.12\n",
            "100 \\MSE  16120.162\n",
            "200 \\MSE  5975.66\n",
            "300 \\MSE  3579.4712\n",
            "400 \\MSE  2648.3193\n",
            "500 \\MSE  2242.9014\n",
            "600 \\MSE  1965.175\n",
            "700 \\MSE  1729.452\n",
            "800 \\MSE  1591.0984\n",
            "900 \\MSE  1482.2568\n",
            " Prediction = \n",
            "  [[[-54.348213]\n",
            "  [-59.236523]\n",
            "  [-58.606037]\n",
            "  [-43.767834]\n",
            "  [-53.56686 ]\n",
            "  [-75.29207 ]\n",
            "  [-65.13076 ]\n",
            "  [-56.313507]\n",
            "  [-42.662865]\n",
            "  [-78.2126  ]]]\n"
          ],
          "name": "stdout"
        },
        {
          "output_type": "stream",
          "text": [
            "/usr/local/lib/python3.6/dist-packages/matplotlib/legend.py:497: UserWarning: Unrecognized location \" upper right\". Falling back on \"best\"; valid locations are\n",
            "\tbest\n",
            "\tupper right\n",
            "\tupper left\n",
            "\tlower left\n",
            "\tlower right\n",
            "\tright\n",
            "\tcenter left\n",
            "\tcenter right\n",
            "\tlower center\n",
            "\tupper center\n",
            "\tcenter\n",
            "\n",
            "  % (loc, '\\n\\t'.join(self.codes)))\n"
          ],
          "name": "stderr"
        },
        {
          "output_type": "execute_result",
          "data": {
            "text/plain": [
              "<function matplotlib.pyplot.show>"
            ]
          },
          "metadata": {
            "tags": []
          },
          "execution_count": 14
        },
        {
          "output_type": "display_data",
          "data": {
            "image/png": "[encoded data removed]",
            "text/plain": [
              "<Figure size 432x288 with 1 Axes>"
            ]
          },
          "metadata": {
            "tags": []
          }
        }
      ]
    }
  ]
}