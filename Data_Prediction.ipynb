{
  "nbformat": 4,
  "nbformat_minor": 0,
  "metadata": {
    "colab": {
      "name": "Data_Prediction.ipynb",
      "version": "0.3.2",
      "provenance": [],
      "collapsed_sections": [],
      "include_colab_link": true
    },
    "kernelspec": {
      "name": "python3",
      "display_name": "Python 3"
    }
  },
  "cells": [
    {
      "cell_type": "markdown",
      "metadata": {
        "id": "view-in-github",
        "colab_type": "text"
      },
      "source": [
        "<a href=\"https://colab.research.google.com/github/dwjang0902/ExampleNew/blob/master/Data_Prediction.ipynb\" target=\"_parent\"><img src=\"https://colab.research.google.com/assets/colab-badge.svg\" alt=\"Open In Colab\"/></a>"
      ]
    },
    {
      "metadata": {
        "id": "IQMnUETNCSJ-",
        "colab_type": "code",
        "colab": {
          "base_uri": "https://localhost:8080/",
          "height": 531
        },
        "outputId": "1f1a1dc5-2d5b-4398-c8bc-e7a7c505ebcc"
      },
      "cell_type": "code",
      "source": [
        "#---------------------------------------------------------\n",
        "#주가 데이터 읽어오기\n",
        "#---------------------------------------------------------\n",
        "import pandas as pd\n",
        "import tensorflow as tf\n",
        "import matplotlib.pyplot as plt\n",
        "import numpy as np\n",
        "\n",
        "tf.reset_default_graph() # 중요한 부분이다; 이것이 없으면 런타임을 항상 리셋 해 주어야 한다.\n",
        "\n",
        "#-------------------------------------------------------------------------------\n",
        "# 한국거래소에서 종목코드 가져오기\n",
        "code_df = pd.read_html('http://kind.krx.co.kr/corpgeneral/corpList.do?method=download&searchType=13', header=0)[0]\n",
        "\n",
        "# 종목코드가 6자리이기 때문에 6자리를 맞춰주기 위해 설정해줌 \n",
        "code_df.종목코드 = code_df.종목코드.map('{:06d}'.format)\n",
        "\n",
        "# 우리가 필요한 것은 회사명과 종목코드이기 때문에 필요없는 column들은 제외해준다. \n",
        "code_df = code_df[['회사명', '종목코드']]\n",
        "\n",
        "# 한글로된 컬럼명을 영어로 바꿔준다. \n",
        "code_df = code_df.rename(columns={'회사명': 'name', '종목코드': 'code'}) \n",
        "code_df.head()\n",
        "#-------------------------------------------------------------------------------\n",
        "\n",
        "\n",
        "# 종목 이름을 입력하면 종목에 해당하는 코드를 불러와 \n",
        "# 네이버 금융(http://finance.naver.com)에 넣어줌 \n",
        "def get_url(item_name, code_df): \n",
        "    code = code_df.query(\"name=='{}'\".format(item_name))['code'].to_string(index=False) \n",
        "    url = 'http://finance.naver.com/item/sise_day.nhn?code={code}'.format(code=code) \n",
        "    \n",
        "    print(\"요청 URL = {}\".format(url)) \n",
        "    return url, code\n",
        "\n",
        "# 신라젠의 일자데이터 url 가져오기 \n",
        "\n",
        "item_name='코메론' \n",
        "url, code = get_url(item_name, code_df)\n",
        "print(type(code))\n",
        "# 왜 이렇게 해야 동작하는지 잘 모르겠다.\n",
        "code = np.int(code)\n",
        "code = str(code)\n",
        "code = code.zfill(6)\n",
        "\n",
        "code_num = code\n",
        "#print(url)\n",
        "\n",
        "# 일자 데이터를 담을 df라는 DataFrame 정의 \n",
        "df = pd.DataFrame()\n",
        "\n",
        "\n",
        "# 1페이지에서 20페이지의 데이터만 가져오기 \n",
        "for page in range(1, 30): \n",
        "#    pg_url = '{url}&page={page}'.format(url=url, page=page) # 동작을 않는다, 이유를 모르겠다 ???\n",
        "    pg_url = 'http://finance.naver.com/item/sise_day.nhn?code=' + code_num + '&page='+ str(page)\n",
        "#    print(pg_url)\n",
        "#    df = pd.read_html(pg_url)\n",
        "    df = df.append(pd.read_html(pg_url, header=0)[0], ignore_index=True)\n",
        " \n",
        "# NaN 데이타 제거\n",
        "df = df.dropna(axis = 0)\n",
        "\n",
        "# 한글로 된 컬럼명을 영어로 바꿔줌 \n",
        "df = df.rename(columns= {'날짜': 'date', '종가': 'close', '전일비': 'diff', '시가': 'open', '고가': 'high', '저가': 'low', '거래량': 'volume'}) \n",
        "\n",
        "# 데이터의 타입을 int형으로 바꿔줌 \n",
        "#df[['close', 'diff', 'open', 'high', 'low', 'volume']]  = df[['close', 'diff', 'open', 'high', 'low', 'volume']].astype(int) \n",
        "\n",
        "# 일자(date)를 기준으로 오름차순 정렬 \n",
        "df = df.sort_values(by=['date'], ascending=True) \n",
        "\n",
        "# 상위 5개 데이터 확인\n",
        "print( df.tail(10))\n",
        "\n",
        "plt.plot(df[\"close\"].to_numpy())\n",
        "\n",
        "#------------------------------------------------------------\n",
        "# 예측하기 by RNN\n",
        "#------------------------------------------------------------"
      ],
      "execution_count": 23,
      "outputs": [
        {
          "output_type": "stream",
          "text": [
            "요청 URL = http://finance.naver.com/item/sise_day.nhn?code= 049430\n",
            "<class 'str'>\n",
            "          date   close   diff    open    high     low   volume\n",
            "13  2019.04.18  8030.0   30.0  8010.0  8050.0  7960.0   5157.0\n",
            "12  2019.04.19  8020.0   10.0  8040.0  8100.0  7980.0  17340.0\n",
            "11  2019.04.22  8190.0  170.0  8040.0  8220.0  8020.0  12740.0\n",
            "10  2019.04.23  8180.0   10.0  8200.0  8230.0  8070.0  15379.0\n",
            "9   2019.04.24  8150.0   30.0  8190.0  8240.0  8120.0   7029.0\n",
            "5   2019.04.25  8100.0   50.0  8220.0  8220.0  8080.0   6811.0\n",
            "4   2019.04.26  8060.0   40.0  8110.0  8170.0  7990.0   9073.0\n",
            "3   2019.04.29  8100.0   40.0  8080.0  8150.0  8060.0   5958.0\n",
            "2   2019.04.30  8110.0   10.0  8100.0  8180.0  8100.0   6024.0\n",
            "1   2019.05.02  8150.0   40.0  8110.0  8180.0  8040.0   2427.0\n"
          ],
          "name": "stdout"
        },
        {
          "output_type": "execute_result",
          "data": {
            "text/plain": [
              "[<matplotlib.lines.Line2D at 0x7fd65d6d2470>]"
            ]
          },
          "metadata": {
            "tags": []
          },
          "execution_count": 23
        },
        {
          "output_type": "display_data",
          "data": {
            "image/png": "[encoded data removed]",
            "text/plain": [
              "<Figure size 432x288 with 1 Axes>"
            ]
          },
          "metadata": {
            "tags": []
          }
        }
      ]
    }
  ]
}